{
  "nbformat": 4,
  "nbformat_minor": 0,
  "metadata": {
    "kernelspec": {
      "language": "python",
      "display_name": "Python 3",
      "name": "python3"
    },
    "language_info": {
      "name": "python",
      "version": "3.7.10",
      "mimetype": "text/x-python",
      "codemirror_mode": {
        "name": "ipython",
        "version": 3
      },
      "pygments_lexer": "ipython3",
      "nbconvert_exporter": "python",
      "file_extension": ".py"
    },
    "colab": {
      "name": "covid_classification_resnet",
      "provenance": []
    },
    "accelerator": "GPU"
  },
  "cells": [
    {
      "cell_type": "code",
      "metadata": {
        "colab": {
          "base_uri": "https://localhost:8080/"
        },
        "id": "FteLC8rDfcZO",
        "outputId": "f829fbf3-ff06-4a17-a54d-afec1774933f"
      },
      "source": [
        "from google.colab import drive\n",
        "drive.mount('/content/drive/')"
      ],
      "execution_count": 1,
      "outputs": [
        {
          "output_type": "stream",
          "name": "stdout",
          "text": [
            "Mounted at /content/drive/\n"
          ]
        }
      ]
    },
    {
      "cell_type": "code",
      "metadata": {
        "_uuid": "8f2839f25d086af736a60e9eeb907d3b93b6e0e5",
        "_cell_guid": "b1076dfc-b9ad-4769-8c92-a6c4dae69d19",
        "execution": {
          "iopub.status.busy": "2021-09-25T15:43:47.362115Z",
          "iopub.execute_input": "2021-09-25T15:43:47.362469Z",
          "iopub.status.idle": "2021-09-25T15:43:47.370974Z",
          "shell.execute_reply.started": "2021-09-25T15:43:47.362440Z",
          "shell.execute_reply": "2021-09-25T15:43:47.369669Z"
        },
        "trusted": true,
        "id": "XCOqzNEcI788"
      },
      "source": [
        "#Load libraries\n",
        "import os\n",
        "import numpy as np\n",
        "import torch\n",
        "import glob\n",
        "import torch.nn as nn\n",
        "from torchvision.transforms import transforms\n",
        "from torch.utils.data import DataLoader\n",
        "from torch.optim import Adam\n",
        "from torch.autograd import Variable\n",
        "import torchvision\n",
        "import pathlib\n",
        "import torch.nn.functional as F\n",
        "from torch.autograd import Variable\n",
        "import torchvision.datasets as dset\n",
        "import torchvision.models as models\n",
        "import sys\n",
        "import math\n",
        "import matplotlib.pyplot as plt"
      ],
      "execution_count": 2,
      "outputs": []
    },
    {
      "cell_type": "code",
      "metadata": {
        "execution": {
          "iopub.status.busy": "2021-09-25T15:43:47.373424Z",
          "iopub.execute_input": "2021-09-25T15:43:47.373820Z",
          "iopub.status.idle": "2021-09-25T15:43:47.385782Z",
          "shell.execute_reply.started": "2021-09-25T15:43:47.373778Z",
          "shell.execute_reply": "2021-09-25T15:43:47.384743Z"
        },
        "trusted": true,
        "id": "didxq6VWI78_"
      },
      "source": [
        "#checking for device\n",
        "device=torch.device('cuda' if torch.cuda.is_available() else 'cpu')"
      ],
      "execution_count": 3,
      "outputs": []
    },
    {
      "cell_type": "code",
      "metadata": {
        "execution": {
          "iopub.status.busy": "2021-09-25T15:43:47.387692Z",
          "iopub.execute_input": "2021-09-25T15:43:47.388121Z",
          "iopub.status.idle": "2021-09-25T15:43:47.396443Z",
          "shell.execute_reply.started": "2021-09-25T15:43:47.387980Z",
          "shell.execute_reply": "2021-09-25T15:43:47.395285Z"
        },
        "trusted": true,
        "id": "O6EuIkVII78_"
      },
      "source": [
        "#Transforms\n",
        "transformer=transforms.Compose([\n",
        "    transforms.Resize((150,150)),\n",
        "    # transforms.RandomHorizontalFlip(),\n",
        "    transforms.ToTensor(),  #0-255 to 0-1, numpy to tensors\n",
        "    transforms.Normalize([0.5,0.5,0.5], # 0-1 to [-1,1] , formula (x-mean)/std\n",
        "                        [0.5,0.5,0.5])\n",
        "])"
      ],
      "execution_count": 4,
      "outputs": []
    },
    {
      "cell_type": "code",
      "metadata": {
        "execution": {
          "iopub.status.busy": "2021-09-25T15:43:47.399527Z",
          "iopub.execute_input": "2021-09-25T15:43:47.399877Z",
          "iopub.status.idle": "2021-09-25T15:43:52.651045Z",
          "shell.execute_reply.started": "2021-09-25T15:43:47.399837Z",
          "shell.execute_reply": "2021-09-25T15:43:52.650102Z"
        },
        "trusted": true,
        "id": "mnckAw9LI79A"
      },
      "source": [
        "#Dataloader\n",
        "\n",
        "#Path for training and testing directory\n",
        "train_path='/content/drive/MyDrive/Coviddata/real_test'\n",
        "valid_path='/content/drive/MyDrive/Coviddata/real_valid'\n",
        "test_path='/content/drive/MyDrive/Coviddata/real_train'\n",
        "\n",
        "\n",
        "train_loader=DataLoader(\n",
        "    torchvision.datasets.ImageFolder(train_path,transform=transformer),\n",
        "    batch_size=8, shuffle=True\n",
        ")\n",
        "valid_loader=DataLoader(\n",
        "    torchvision.datasets.ImageFolder(valid_path,transform=transformer),\n",
        "    batch_size=8, shuffle=True\n",
        ")\n",
        "test_loader=DataLoader(\n",
        "    torchvision.datasets.ImageFolder(test_path,transform=transformer),\n",
        "    batch_size=8, shuffle=True\n",
        ")\n",
        "\n",
        "#changing batch_size=32 to 16 for testing."
      ],
      "execution_count": 5,
      "outputs": []
    },
    {
      "cell_type": "code",
      "metadata": {
        "execution": {
          "iopub.status.busy": "2021-09-25T15:43:52.653454Z",
          "iopub.execute_input": "2021-09-25T15:43:52.653710Z",
          "iopub.status.idle": "2021-09-25T15:43:52.663747Z",
          "shell.execute_reply.started": "2021-09-25T15:43:52.653684Z",
          "shell.execute_reply": "2021-09-25T15:43:52.662756Z"
        },
        "trusted": true,
        "id": "gdUIrpURI79A"
      },
      "source": [
        "#categories\n",
        "root=pathlib.Path(train_path)\n",
        "classes=sorted([j.name.split('/')[-1] for j in root.iterdir()])"
      ],
      "execution_count": 6,
      "outputs": []
    },
    {
      "cell_type": "code",
      "metadata": {
        "execution": {
          "iopub.status.busy": "2021-09-25T15:43:52.665622Z",
          "iopub.execute_input": "2021-09-25T15:43:52.665987Z",
          "iopub.status.idle": "2021-09-25T15:43:52.709059Z",
          "shell.execute_reply.started": "2021-09-25T15:43:52.665941Z",
          "shell.execute_reply": "2021-09-25T15:43:52.708046Z"
        },
        "trusted": true,
        "id": "kTmJuL04I79B",
        "colab": {
          "base_uri": "https://localhost:8080/"
        },
        "outputId": "154e41fb-6a40-4f60-bce8-77d16a47e39a"
      },
      "source": [
        "#calculating the size of training and testing images\n",
        "train_count=len(glob.glob(train_path+'/**/*.png'))\n",
        "test_count=len(glob.glob(test_path+'/**/*.png'))\n",
        "print(train_count)\n",
        "print(test_count)\n",
        "#split is 80-20"
      ],
      "execution_count": 7,
      "outputs": [
        {
          "output_type": "stream",
          "name": "stdout",
          "text": [
            "4254\n",
            "1200\n"
          ]
        }
      ]
    },
    {
      "cell_type": "code",
      "metadata": {
        "execution": {
          "iopub.status.busy": "2021-09-25T15:43:52.710650Z",
          "iopub.execute_input": "2021-09-25T15:43:52.710928Z",
          "iopub.status.idle": "2021-09-25T15:43:52.723949Z",
          "shell.execute_reply.started": "2021-09-25T15:43:52.710892Z",
          "shell.execute_reply": "2021-09-25T15:43:52.722679Z"
        },
        "trusted": true,
        "id": "QDvxUmy-I79B"
      },
      "source": [
        "class ImageClassificationBase(nn.Module):\n",
        "    def training_step(self, batch):\n",
        "        images, labels = batch \n",
        "        out = self(images)                  # Generate predictions\n",
        "        loss = F.cross_entropy(out, labels) # Calculate loss\n",
        "        return loss\n",
        "    \n",
        "    def validation_step(self, batch):\n",
        "        images, labels = batch \n",
        "        out = self(images)                    # Generate predictions\n",
        "        loss = F.cross_entropy(out, labels)   # Calculate loss\n",
        "        acc = accuracy(out, labels)           # Calculate accuracy\n",
        "        return {'val_loss': loss.detach(), 'val_acc': acc}\n",
        "        \n",
        "    def validation_epoch_end(self, outputs):\n",
        "        batch_losses = [x['val_loss'] for x in outputs]\n",
        "        epoch_loss = torch.stack(batch_losses).mean()   # Combine losses\n",
        "        batch_accs = [x['val_acc'] for x in outputs]\n",
        "        epoch_acc = torch.stack(batch_accs).mean()      # Combine accuracies\n",
        "        return {'val_loss': epoch_loss.item(), 'val_acc': epoch_acc.item()}\n",
        "    \n",
        "    def epoch_end(self, epoch, result):\n",
        "        print(\"Epoch [{}], train_loss: {:.4f}, val_loss: {:.4f}, val_acc: {:.4f}\".format(\n",
        "            epoch, result['train_loss'], result['val_loss'], result['val_acc']))\n",
        "        \n",
        "def accuracy(outputs, labels):\n",
        "    _, preds = torch.max(outputs, dim=1)\n",
        "    return torch.tensor(torch.sum(preds == labels).item() / len(preds))"
      ],
      "execution_count": 8,
      "outputs": []
    },
    {
      "cell_type": "code",
      "metadata": {
        "execution": {
          "iopub.status.busy": "2021-09-25T15:43:52.726307Z",
          "iopub.execute_input": "2021-09-25T15:43:52.727155Z",
          "iopub.status.idle": "2021-09-25T15:43:52.753146Z",
          "shell.execute_reply.started": "2021-09-25T15:43:52.727112Z",
          "shell.execute_reply": "2021-09-25T15:43:52.751991Z"
        },
        "trusted": true,
        "id": "IRb5m77rI79C"
      },
      "source": [
        "class block(nn.Module):\n",
        "    def __init__(\n",
        "        self, in_channels, intermediate_channels, identity_downsample=None, stride=1\n",
        "    ):\n",
        "        super(block, self).__init__()\n",
        "        self.expansion = 4\n",
        "        self.conv1 = nn.Conv2d(\n",
        "            in_channels, intermediate_channels, kernel_size=1, stride=1, padding=0, bias=False\n",
        "        )\n",
        "        self.bn1 = nn.BatchNorm2d(intermediate_channels)\n",
        "        self.conv2 = nn.Conv2d(\n",
        "            intermediate_channels,\n",
        "            intermediate_channels,\n",
        "            kernel_size=3,\n",
        "            stride=stride,\n",
        "            padding=1,\n",
        "            bias=False\n",
        "        )\n",
        "        self.bn2 = nn.BatchNorm2d(intermediate_channels)\n",
        "        self.conv3 = nn.Conv2d(\n",
        "            intermediate_channels,\n",
        "            intermediate_channels * self.expansion,\n",
        "            kernel_size=1,\n",
        "            stride=1,\n",
        "            padding=0,\n",
        "            bias=False\n",
        "        )\n",
        "        self.bn3 = nn.BatchNorm2d(intermediate_channels * self.expansion)\n",
        "        self.relu = nn.ReLU()\n",
        "        self.identity_downsample = identity_downsample\n",
        "        self.stride = stride\n",
        "\n",
        "    def forward(self, x):\n",
        "        identity = x.clone()\n",
        "\n",
        "        x = self.conv1(x)\n",
        "        x = self.bn1(x)\n",
        "        x = self.relu(x)\n",
        "        x = self.conv2(x)\n",
        "        x = self.bn2(x)\n",
        "        x = self.relu(x)\n",
        "        x = self.conv3(x)\n",
        "        x = self.bn3(x)\n",
        "\n",
        "        if self.identity_downsample is not None:\n",
        "            identity = self.identity_downsample(identity)\n",
        "\n",
        "        x += identity\n",
        "        x = self.relu(x)\n",
        "        return x\n",
        "\n",
        "\n",
        "class ResNet(ImageClassificationBase):\n",
        "    def __init__(self, block, layers, image_channels, num_classes):\n",
        "        super(ResNet, self).__init__()\n",
        "        self.in_channels = 64\n",
        "        self.conv1 = nn.Conv2d(image_channels, 64, kernel_size=7, stride=2, padding=3, bias=False)\n",
        "        self.bn1 = nn.BatchNorm2d(64)\n",
        "        self.relu = nn.ReLU()\n",
        "        self.maxpool = nn.MaxPool2d(kernel_size=3, stride=2, padding=1)\n",
        "\n",
        "        # Essentially the entire ResNet architecture are in these 4 lines below\n",
        "        self.layer1 = self._make_layer(\n",
        "            block, layers[0], intermediate_channels=64, stride=1\n",
        "        )\n",
        "        self.layer2 = self._make_layer(\n",
        "            block, layers[1], intermediate_channels=128, stride=2\n",
        "        )\n",
        "        self.layer3 = self._make_layer(\n",
        "            block, layers[2], intermediate_channels=256, stride=2\n",
        "        )\n",
        "        self.layer4 = self._make_layer(\n",
        "            block, layers[3], intermediate_channels=512, stride=2\n",
        "        )\n",
        "\n",
        "        self.avgpool = nn.AdaptiveAvgPool2d((1, 1))\n",
        "        self.fc = nn.Linear(512 * 4, num_classes)\n",
        "\n",
        "    def forward(self, x):\n",
        "        x = self.conv1(x)\n",
        "        x = self.bn1(x)\n",
        "        x = self.relu(x)\n",
        "        x = self.maxpool(x)\n",
        "        x = self.layer1(x)\n",
        "        x = self.layer2(x)\n",
        "        x = self.layer3(x)\n",
        "        x = self.layer4(x)\n",
        "\n",
        "        x = self.avgpool(x)\n",
        "        x = x.reshape(x.shape[0], -1)\n",
        "        x = self.fc(x)\n",
        "\n",
        "        return x\n",
        "\n",
        "    def _make_layer(self, block, num_residual_blocks, intermediate_channels, stride):\n",
        "        identity_downsample = None\n",
        "        layers = []\n",
        "\n",
        "        if stride != 1 or self.in_channels != intermediate_channels * 4:\n",
        "            identity_downsample = nn.Sequential(\n",
        "                nn.Conv2d(\n",
        "                    self.in_channels,\n",
        "                    intermediate_channels * 4,\n",
        "                    kernel_size=1,\n",
        "                    stride=stride,\n",
        "                    bias=False\n",
        "                ),\n",
        "                nn.BatchNorm2d(intermediate_channels * 4),\n",
        "            )\n",
        "\n",
        "        layers.append(\n",
        "            block(self.in_channels, intermediate_channels, identity_downsample, stride)\n",
        "        )\n",
        "\n",
        "        self.in_channels = intermediate_channels * 4\n",
        "\n",
        "        for i in range(num_residual_blocks - 1):\n",
        "            layers.append(block(self.in_channels, intermediate_channels))\n",
        "\n",
        "        return nn.Sequential(*layers)\n"
      ],
      "execution_count": 9,
      "outputs": []
    },
    {
      "cell_type": "code",
      "metadata": {
        "execution": {
          "iopub.status.busy": "2021-09-25T15:43:52.758643Z",
          "iopub.execute_input": "2021-09-25T15:43:52.759492Z",
          "iopub.status.idle": "2021-09-25T15:43:52.770219Z",
          "shell.execute_reply.started": "2021-09-25T15:43:52.759433Z",
          "shell.execute_reply": "2021-09-25T15:43:52.769174Z"
        },
        "trusted": true,
        "id": "UXf_FTNaI79D"
      },
      "source": [
        "def to_device(data, device):\n",
        "    \"\"\"Move tensor(s) to chosen device\"\"\"\n",
        "    if isinstance(data, (list,tuple)):\n",
        "        return [to_device(x, device) for x in data]\n",
        "    return data.to(device, non_blocking=True)\n",
        "\n",
        "class DeviceDataLoader():\n",
        "    \"\"\"Wrap a dataloader to move data to a device\"\"\"\n",
        "    def __init__(self, dl, device):\n",
        "        self.dl = dl\n",
        "        self.device = device\n",
        "        \n",
        "    def __iter__(self):\n",
        "        \"\"\"Yield a batch of data after moving it to device\"\"\"\n",
        "        for b in self.dl: \n",
        "            yield to_device(b, self.device)\n",
        "\n",
        "    def __len__(self):\n",
        "        \"\"\"Number of batches\"\"\"\n",
        "        return len(self.dl)"
      ],
      "execution_count": 10,
      "outputs": []
    },
    {
      "cell_type": "code",
      "metadata": {
        "execution": {
          "iopub.status.busy": "2021-09-25T15:44:50.815986Z",
          "iopub.execute_input": "2021-09-25T15:44:50.816660Z",
          "iopub.status.idle": "2021-09-25T15:44:57.410157Z",
          "shell.execute_reply.started": "2021-09-25T15:44:50.816628Z",
          "shell.execute_reply": "2021-09-25T15:44:57.409181Z"
        },
        "trusted": true,
        "id": "9IBIkNySI79D"
      },
      "source": [
        "model=ResNet(block, [3, 4, 6, 3], image_channels=1, num_classes=2).to(device)\n",
        "train_dl = DeviceDataLoader(train_loader, device)\n",
        "val_dl = DeviceDataLoader(valid_loader, device)\n",
        "to_device(model, device);"
      ],
      "execution_count": 11,
      "outputs": []
    },
    {
      "cell_type": "code",
      "metadata": {
        "execution": {
          "iopub.status.busy": "2021-09-25T15:43:52.882615Z",
          "iopub.status.idle": "2021-09-25T15:43:52.883213Z",
          "shell.execute_reply.started": "2021-09-25T15:43:52.882914Z",
          "shell.execute_reply": "2021-09-25T15:43:52.882941Z"
        },
        "trusted": true,
        "id": "ngDJ18_dI79E"
      },
      "source": [
        "def train(epoch):\n",
        "    print('\\nEpoch : %d'%epoch)\n",
        "    "
      ],
      "execution_count": 12,
      "outputs": []
    },
    {
      "cell_type": "code",
      "metadata": {
        "execution": {
          "iopub.status.busy": "2021-09-25T15:47:17.439693Z",
          "iopub.execute_input": "2021-09-25T15:47:17.440008Z",
          "iopub.status.idle": "2021-09-25T15:47:17.449939Z",
          "shell.execute_reply.started": "2021-09-25T15:47:17.439979Z",
          "shell.execute_reply": "2021-09-25T15:47:17.448473Z"
        },
        "trusted": true,
        "id": "cosEsTLGI79E"
      },
      "source": [
        "def evaluate(model, val_loader):\n",
        "    model.eval()\n",
        "    outputs = [model.validation_step(batch) for batch in val_loader]\n",
        "    return model.validation_epoch_end(outputs)\n",
        "\n",
        "def fit(epochs, lr, model, train_loader, val_loader, opt_func=torch.optim.SGD):\n",
        "    history = []\n",
        "    optimizer = opt_func(model.parameters(), lr)\n",
        "    for epoch in range(epochs):\n",
        "        # Training Phase \n",
        "        model.train()\n",
        "        train_losses = []\n",
        "        for batch in train_loader:\n",
        "            loss = model.training_step(batch)\n",
        "            train_losses.append(loss)\n",
        "            loss.backward()\n",
        "            optimizer.step()\n",
        "            optimizer.zero_grad()\n",
        "        # Validation phase\n",
        "        result = evaluate(model, val_loader)\n",
        "        result['train_loss'] = torch.stack(train_losses).mean().item()\n",
        "        model.epoch_end(epoch, result)\n",
        "        history.append(result)\n",
        "    return history"
      ],
      "execution_count": 13,
      "outputs": []
    },
    {
      "cell_type": "code",
      "metadata": {
        "execution": {
          "iopub.status.busy": "2021-09-25T15:47:36.600707Z",
          "iopub.execute_input": "2021-09-25T15:47:36.601035Z",
          "iopub.status.idle": "2021-09-25T15:47:36.766813Z",
          "shell.execute_reply.started": "2021-09-25T15:47:36.601005Z",
          "shell.execute_reply": "2021-09-25T15:47:36.765828Z"
        },
        "trusted": true,
        "id": "bBcXhB2uI79F"
      },
      "source": [
        "model = to_device(ResNet(block, [3, 4, 6, 3], image_channels=3, num_classes=2), device)"
      ],
      "execution_count": 17,
      "outputs": []
    },
    {
      "cell_type": "code",
      "metadata": {
        "execution": {
          "iopub.status.busy": "2021-09-25T15:47:44.325406Z",
          "iopub.execute_input": "2021-09-25T15:47:44.325756Z",
          "iopub.status.idle": "2021-09-25T15:47:55.064188Z",
          "shell.execute_reply.started": "2021-09-25T15:47:44.325726Z",
          "shell.execute_reply": "2021-09-25T15:47:55.063104Z"
        },
        "trusted": true,
        "id": "ypvKfd7kI79F",
        "colab": {
          "base_uri": "https://localhost:8080/"
        },
        "outputId": "fcdc4785-a029-4c21-ba7d-c5ae63485691"
      },
      "source": [
        "evaluate(model, val_dl)"
      ],
      "execution_count": 18,
      "outputs": [
        {
          "output_type": "stream",
          "name": "stderr",
          "text": [
            "/usr/local/lib/python3.7/dist-packages/torch/nn/functional.py:718: UserWarning: Named tensors and all their associated APIs are an experimental feature and subject to change. Please do not use them for anything important until they are released as stable. (Triggered internally at  /pytorch/c10/core/TensorImpl.h:1156.)\n",
            "  return torch.max_pool2d(input, kernel_size, stride, padding, dilation, ceil_mode)\n"
          ]
        },
        {
          "output_type": "execute_result",
          "data": {
            "text/plain": [
              "{'val_acc': 0.5, 'val_loss': 0.6931771039962769}"
            ]
          },
          "metadata": {},
          "execution_count": 18
        }
      ]
    },
    {
      "cell_type": "code",
      "metadata": {
        "execution": {
          "iopub.status.busy": "2021-09-25T15:56:18.303282Z",
          "iopub.execute_input": "2021-09-25T15:56:18.303609Z",
          "iopub.status.idle": "2021-09-25T15:56:18.309869Z",
          "shell.execute_reply.started": "2021-09-25T15:56:18.303568Z",
          "shell.execute_reply": "2021-09-25T15:56:18.308406Z"
        },
        "trusted": true,
        "id": "H38ImlRjI79F"
      },
      "source": [
        "#Optmizer and loss function\n",
        "#optimizer=Adam(model.parameters(),lr=0.001,weight_decay=0.0001)\n",
        "opt_func = torch.optim.Adam\n",
        "loss_function=nn.CrossEntropyLoss()\n",
        "num_epochs=10\n",
        "lr=0.001"
      ],
      "execution_count": 19,
      "outputs": []
    },
    {
      "cell_type": "code",
      "metadata": {
        "execution": {
          "iopub.status.busy": "2021-09-25T15:56:20.870251Z",
          "iopub.execute_input": "2021-09-25T15:56:20.871088Z",
          "iopub.status.idle": "2021-09-25T16:42:43.355590Z",
          "shell.execute_reply.started": "2021-09-25T15:56:20.871054Z",
          "shell.execute_reply": "2021-09-25T16:42:43.354638Z"
        },
        "trusted": true,
        "id": "opuXmXApI79F",
        "colab": {
          "base_uri": "https://localhost:8080/"
        },
        "outputId": "53400b06-d6ae-40d4-dd94-14e68b4e977a"
      },
      "source": [
        "history = fit(num_epochs, lr, model, train_dl, val_dl, opt_func)"
      ],
      "execution_count": 20,
      "outputs": [
        {
          "output_type": "stream",
          "name": "stdout",
          "text": [
            "Epoch [0], train_loss: 0.5249, val_loss: 1.1935, val_acc: 0.5000\n",
            "Epoch [1], train_loss: 0.4166, val_loss: 1.3308, val_acc: 0.5050\n",
            "Epoch [2], train_loss: 0.4072, val_loss: 1.4992, val_acc: 0.5000\n",
            "Epoch [3], train_loss: 0.3839, val_loss: 1.8339, val_acc: 0.5000\n",
            "Epoch [4], train_loss: 0.3715, val_loss: 1.1684, val_acc: 0.5000\n",
            "Epoch [5], train_loss: 0.3644, val_loss: 1.8443, val_acc: 0.5000\n",
            "Epoch [6], train_loss: 0.4046, val_loss: 1.0613, val_acc: 0.5000\n",
            "Epoch [7], train_loss: 0.3669, val_loss: 1.2971, val_acc: 0.4900\n",
            "Epoch [8], train_loss: 0.3368, val_loss: 1.3927, val_acc: 0.4900\n",
            "Epoch [9], train_loss: 0.3122, val_loss: 1.2648, val_acc: 0.5000\n"
          ]
        }
      ]
    },
    {
      "cell_type": "code",
      "metadata": {
        "execution": {
          "iopub.status.busy": "2021-09-25T16:42:43.370447Z",
          "iopub.execute_input": "2021-09-25T16:42:43.370919Z",
          "iopub.status.idle": "2021-09-25T16:42:43.387804Z",
          "shell.execute_reply.started": "2021-09-25T16:42:43.370736Z",
          "shell.execute_reply": "2021-09-25T16:42:43.386788Z"
        },
        "trusted": true,
        "id": "qwzY4eXfI79F"
      },
      "source": [
        "def plot_accuracies(history):\n",
        "    accuracies = [x['val_acc'] for x in history]\n",
        "    plt.plot(accuracies, '-x')\n",
        "    plt.xlabel('epoch')\n",
        "    plt.ylabel('accuracy')\n",
        "    plt.title('Accuracy vs. No. of epochs');"
      ],
      "execution_count": 21,
      "outputs": []
    },
    {
      "cell_type": "code",
      "metadata": {
        "execution": {
          "iopub.status.busy": "2021-09-25T16:42:43.391335Z",
          "iopub.execute_input": "2021-09-25T16:42:43.391687Z",
          "iopub.status.idle": "2021-09-25T16:42:43.629089Z",
          "shell.execute_reply.started": "2021-09-25T16:42:43.391645Z",
          "shell.execute_reply": "2021-09-25T16:42:43.627987Z"
        },
        "trusted": true,
        "id": "5U-kKymqI79G",
        "colab": {
          "base_uri": "https://localhost:8080/",
          "height": 295
        },
        "outputId": "6d3d42bb-755d-4b06-9d85-4c6310d909c9"
      },
      "source": [
        "plot_accuracies(history)"
      ],
      "execution_count": 22,
      "outputs": [
        {
          "output_type": "display_data",
          "data": {
            "image/png": "[encoded data removed]",
            "text/plain": [
              "<Figure size 432x288 with 1 Axes>"
            ]
          },
          "metadata": {
            "needs_background": "light"
          }
        }
      ]
    },
    {
      "cell_type": "code",
      "metadata": {
        "execution": {
          "iopub.status.busy": "2021-09-25T16:42:43.632148Z",
          "iopub.execute_input": "2021-09-25T16:42:43.633320Z",
          "iopub.status.idle": "2021-09-25T16:42:43.641212Z",
          "shell.execute_reply.started": "2021-09-25T16:42:43.633241Z",
          "shell.execute_reply": "2021-09-25T16:42:43.639864Z"
        },
        "trusted": true,
        "id": "-Jwx7UYmI79G"
      },
      "source": [
        "def plot_losses(history):\n",
        "    train_losses = [x.get('train_loss') for x in history]\n",
        "    val_losses = [x['val_loss'] for x in history]\n",
        "    plt.plot(train_losses, '-bx')\n",
        "    plt.plot(val_losses, '-rx')\n",
        "    plt.xlabel('epoch')\n",
        "    plt.ylabel('loss')\n",
        "    plt.legend(['Training', 'Validation'])\n",
        "    plt.title('Loss vs. No. of epochs');"
      ],
      "execution_count": 23,
      "outputs": []
    },
    {
      "cell_type": "code",
      "metadata": {
        "execution": {
          "iopub.status.busy": "2021-09-25T16:42:43.642873Z",
          "iopub.execute_input": "2021-09-25T16:42:43.643423Z",
          "iopub.status.idle": "2021-09-25T16:42:43.912695Z",
          "shell.execute_reply.started": "2021-09-25T16:42:43.643381Z",
          "shell.execute_reply": "2021-09-25T16:42:43.911741Z"
        },
        "trusted": true,
        "id": "ToKUO6V2I79G",
        "colab": {
          "base_uri": "https://localhost:8080/",
          "height": 295
        },
        "outputId": "2daca898-90d0-4ffc-d8e7-42d15f22f1cf"
      },
      "source": [
        "plot_losses(history)"
      ],
      "execution_count": 24,
      "outputs": [
        {
          "output_type": "display_data",
          "data": {
            "image/png": "[encoded data removed]",
            "text/plain": [
              "<Figure size 432x288 with 1 Axes>"
            ]
          },
          "metadata": {
            "needs_background": "light"
          }
        }
      ]
    },
    {
      "cell_type": "code",
      "metadata": {
        "execution": {
          "iopub.status.busy": "2021-09-25T16:43:31.572571Z",
          "iopub.execute_input": "2021-09-25T16:43:31.572961Z",
          "iopub.status.idle": "2021-09-25T16:43:54.277520Z",
          "shell.execute_reply.started": "2021-09-25T16:43:31.572903Z",
          "shell.execute_reply": "2021-09-25T16:43:54.276563Z"
        },
        "trusted": true,
        "id": "dCVpjOnXI79H",
        "colab": {
          "base_uri": "https://localhost:8080/"
        },
        "outputId": "82afb56a-5ec1-4047-809c-885b633a4902"
      },
      "source": [
        "test_loader = DeviceDataLoader(test_loader, device)\n",
        "result = evaluate(model, test_loader)\n",
        "result"
      ],
      "execution_count": 25,
      "outputs": [
        {
          "output_type": "execute_result",
          "data": {
            "text/plain": [
              "{'val_acc': 0.7758333086967468, 'val_loss': 0.5133177042007446}"
            ]
          },
          "metadata": {},
          "execution_count": 25
        }
      ]
    },
    {
      "cell_type": "code",
      "metadata": {
        "execution": {
          "iopub.status.busy": "2021-09-25T15:43:52.910612Z",
          "iopub.status.idle": "2021-09-25T15:43:52.911143Z",
          "shell.execute_reply.started": "2021-09-25T15:43:52.910862Z",
          "shell.execute_reply": "2021-09-25T15:43:52.910888Z"
        },
        "trusted": true,
        "id": "M8NmJV_KI79H"
      },
      "source": [
        ""
      ],
      "execution_count": 25,
      "outputs": []
    },
    {
      "cell_type": "code",
      "metadata": {
        "execution": {
          "iopub.status.busy": "2021-09-25T16:52:34.357098Z",
          "iopub.execute_input": "2021-09-25T16:52:34.357604Z",
          "iopub.status.idle": "2021-09-25T16:52:57.286933Z",
          "shell.execute_reply.started": "2021-09-25T16:52:34.357561Z",
          "shell.execute_reply": "2021-09-25T16:52:57.285806Z"
        },
        "trusted": true,
        "id": "R24nsDiSI79H",
        "colab": {
          "base_uri": "https://localhost:8080/"
        },
        "outputId": "0d5c43c4-3f35-45d5-bf02-147298104fdd"
      },
      "source": [
        "nb_classes = 2\n",
        "\n",
        "confusion_matrix = torch.zeros(nb_classes, nb_classes)\n",
        "with torch.no_grad():\n",
        "    for i, (inputs, classes) in enumerate(test_loader):\n",
        "        inputs = inputs.to(device)\n",
        "        classes = classes.to(device)\n",
        "        outputs = model(inputs)\n",
        "        _, preds = torch.max(outputs, 1)\n",
        "        for t, p in zip(classes.view(-1), preds.view(-1)):\n",
        "                confusion_matrix[t.long(), p.long()] += 1\n",
        "\n",
        "print(confusion_matrix)"
      ],
      "execution_count": 26,
      "outputs": [
        {
          "output_type": "stream",
          "name": "stdout",
          "text": [
            "tensor([[375., 225.],\n",
            "        [ 44., 556.]])\n"
          ]
        }
      ]
    },
    {
      "cell_type": "code",
      "metadata": {
        "id": "301hO_qWI79H"
      },
      "source": [
        ""
      ],
      "execution_count": null,
      "outputs": []
    },
    {
      "cell_type": "code",
      "metadata": {
        "execution": {
          "iopub.status.busy": "2021-09-25T16:52:57.289325Z",
          "iopub.execute_input": "2021-09-25T16:52:57.289647Z",
          "iopub.status.idle": "2021-09-25T16:52:57.295451Z",
          "shell.execute_reply.started": "2021-09-25T16:52:57.289606Z",
          "shell.execute_reply": "2021-09-25T16:52:57.294319Z"
        },
        "trusted": true,
        "id": "PdDoMg8lI79I"
      },
      "source": [
        "TP = confusion_matrix[0][0]\n",
        "FN = confusion_matrix[1][0]\n",
        "FP = confusion_matrix[0][1]\n",
        "TN = confusion_matrix[1][1]"
      ],
      "execution_count": null,
      "outputs": []
    },
    {
      "cell_type": "code",
      "metadata": {
        "execution": {
          "iopub.status.busy": "2021-09-25T16:53:41.298709Z",
          "iopub.execute_input": "2021-09-25T16:53:41.299081Z",
          "iopub.status.idle": "2021-09-25T16:53:41.315287Z",
          "shell.execute_reply.started": "2021-09-25T16:53:41.299041Z",
          "shell.execute_reply": "2021-09-25T16:53:41.314317Z"
        },
        "trusted": true,
        "id": "kDEtbCmxI79I",
        "colab": {
          "base_uri": "https://localhost:8080/"
        },
        "outputId": "0780eeb2-8aae-4b62-c0bf-89822eeefbe8"
      },
      "source": [
        "print('The F! Score is: ', float(2*TP/(2*TP+FN+FP)))\n",
        "print(\"The precison score is: \", float(TP/(TP+FP)))\n",
        "print(\"The recall score is: \", float(TP/(TP+FN)))"
      ],
      "execution_count": 28,
      "outputs": [
        {
          "output_type": "stream",
          "name": "stdout",
          "text": [
            "The F! Score is:  0.7360156774520874\n",
            "The precison score is:  0.625\n",
            "The recall score is:  0.8949880599975586\n",
            "The F! Score is:  0.7360156774520874\n",
            "The precison score is:  0.625\n",
            "The recall score is:  0.8949880599975586\n"
          ]
        }
      ]
    },
    {
      "cell_type": "code",
      "metadata": {
        "id": "zHDs1-UBDwUY"
      },
      "source": [
        ""
      ],
      "execution_count": null,
      "outputs": []
    }
  ]
}