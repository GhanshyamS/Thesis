{
 "cells": [
  {
   "cell_type": "code",
   "execution_count": 25,
   "metadata": {},
   "outputs": [],
   "source": [
    "import os\n",
    "import random\n",
    "import shutil\n",
    "import numpy as np\n",
    "import math\n",
    "folderName = ''\n",
    "counter = 0\n",
    "base_covid_folder = \"data/COVID-19\"\n",
    "base_non_covid_folder = \"data/Non-COVID-19\"\n",
    "train_covid19_data_folder = \"data/train/COVID-19\"\n",
    "test_covid19_data_folder = \"data/test/COVID-19\"\n",
    "train_non_covid19_data_folder = \"data/train/Non-COVID-19\"\n",
    "test_non_covid19_data_folder = \"data/test/Non-COVID-19\"\n",
    "split_value = 80"
   ]
  },
  {
   "cell_type": "code",
   "execution_count": 28,
   "metadata": {},
   "outputs": [],
   "source": [
    "#count number of images in the folder\n",
    "def countNumberOfImagesInFolder(folderName):\n",
    "  counter = 0\n",
    "  for root, dirs, files in os.walk(folderName):\n",
    "    for file in files:\n",
    "       counter = counter +1\n",
    "  return counter"
   ]
  },
  {
   "cell_type": "code",
   "execution_count": 29,
   "metadata": {},
   "outputs": [
    {
     "name": "stdout",
     "output_type": "stream",
     "text": [
      "total covid data  3616\n"
     ]
    }
   ],
   "source": [
    "\n",
    "#count number of images in the folder\n",
    "total_no_of_covid_data =countNumberOfImagesInFolder(base_covid_folder)\n",
    "print('total covid data ',total_no_of_covid_data )"
   ]
  },
  {
   "cell_type": "code",
   "execution_count": 30,
   "metadata": {},
   "outputs": [
    {
     "name": "stdout",
     "output_type": "stream",
     "text": [
      "train non-covid-data  17549\n"
     ]
    }
   ],
   "source": [
    "#count number of images in the folder\n",
    "counter_non_covid_data = countNumberOfImagesInFolder(base_non_covid_folder)\n",
    "print('train non-covid-data ', counter_non_covid_data)"
   ]
  },
  {
   "cell_type": "code",
   "execution_count": 31,
   "metadata": {},
   "outputs": [],
   "source": [
    "def addImagesToList(file_list,directory):\n",
    "  for root, dirs, files in os.walk(directory):\n",
    "    for file in files:\n",
    "        #all \n",
    "        file_list.append(os.path.join(root, file))\n",
    "  return file_list"
   ]
  },
  {
   "cell_type": "code",
   "execution_count": 32,
   "metadata": {},
   "outputs": [
    {
     "name": "stdout",
     "output_type": "stream",
     "text": [
      "total_no_of_covid_data  3616\n",
      "total_no_of_non_covid_data  17549\n"
     ]
    }
   ],
   "source": [
    "covid_files_list = []\n",
    "non_covid_files_list = []\n",
    "covid_files_list = addImagesToList(covid_files_list,base_covid_folder)\n",
    "non_covid_files_list = addImagesToList(non_covid_files_list,base_non_covid_folder)\n",
    "total_no_of_covid_data = len(covid_files_list)\n",
    "total_no_of_non_covid_data = len(non_covid_files_list)\n",
    "print('total_no_of_covid_data ',total_no_of_covid_data)\n",
    "print('total_no_of_non_covid_data ',total_no_of_non_covid_data)"
   ]
  },
  {
   "cell_type": "code",
   "execution_count": 33,
   "metadata": {},
   "outputs": [],
   "source": [
    "def move_files_to_destination(destination_folder,files_list,split_value,file_count):\n",
    "  split_no_of_files = (split_value/100)*file_count\n",
    "  split_no_of_files = math.floor(split_no_of_files)\n",
    "  print('split files to ',split_no_of_files)\n",
    "  if os.path.isdir(destination_folder) == False:\n",
    "    os.makedirs(destination_folder)\n",
    "  filesToCopy = random.sample(files_list,split_no_of_files)\n",
    "  index = 0\n",
    "  for file in filesToCopy:\n",
    "    shutil.copy(file,destination_folder)\n",
    "    index=files_list.index(file)\n",
    "    files_list.pop(index)\n",
    "  print('remaining files_list ', len(files_list))"
   ]
  },
  {
   "cell_type": "code",
   "execution_count": 34,
   "metadata": {},
   "outputs": [
    {
     "name": "stdout",
     "output_type": "stream",
     "text": [
      "split files to  2892\n",
      "remaining files_list  724\n",
      "split files to  14039\n",
      "remaining files_list  3510\n"
     ]
    }
   ],
   "source": [
    "#move files to train folder \n",
    "move_files_to_destination(train_covid19_data_folder,covid_files_list,split_value,total_no_of_covid_data)\n",
    "move_files_to_destination(train_non_covid19_data_folder,non_covid_files_list,split_value,total_no_of_non_covid_data)"
   ]
  },
  {
   "cell_type": "code",
   "execution_count": 39,
   "metadata": {},
   "outputs": [],
   "source": [
    "#move remaining files to the test  folder\n",
    "def move_remaining_files_to_destination(destination_folder,files_list):\n",
    "  if os.path.isdir(destination_folder) == False:\n",
    "    os.makedirs(destination_folder)\n",
    "  for file in files_list:\n",
    "    shutil.copy(file,destination_folder)"
   ]
  },
  {
   "cell_type": "code",
   "execution_count": 40,
   "metadata": {},
   "outputs": [],
   "source": [
    "move_remaining_files_to_destination(test_covid19_data_folder,covid_files_list)\n",
    "move_remaining_files_to_destination(test_non_covid19_data_folder,non_covid_files_list)"
   ]
  },
  {
   "cell_type": "code",
   "execution_count": 41,
   "metadata": {},
   "outputs": [
    {
     "name": "stdout",
     "output_type": "stream",
     "text": [
      "total_covid_files_in_train  2892\n",
      "total_non_covid_files_in_train  14039\n",
      "total_covid_files_in_test  724\n",
      "total_non_covid_files_in_test  3510\n"
     ]
    }
   ],
   "source": [
    "print('total_covid_files_in_train ',countNumberOfImagesInFolder(train_covid19_data_folder))\n",
    "print('total_non_covid_files_in_train ',countNumberOfImagesInFolder(train_non_covid19_data_folder))\n",
    "print('total_covid_files_in_test ',countNumberOfImagesInFolder(test_covid19_data_folder))\n",
    "print('total_non_covid_files_in_test ',countNumberOfImagesInFolder(test_non_covid19_data_folder))"
   ]
  },
  {
   "cell_type": "code",
   "execution_count": null,
   "metadata": {},
   "outputs": [],
   "source": []
  }
 ],
 "metadata": {
  "kernelspec": {
   "display_name": "Python 3",
   "language": "python",
   "name": "python3"
  },
  "language_info": {
   "codemirror_mode": {
    "name": "ipython",
    "version": 3
   },
   "file_extension": ".py",
   "mimetype": "text/x-python",
   "name": "python",
   "nbconvert_exporter": "python",
   "pygments_lexer": "ipython3",
   "version": "3.8.3"
  }
 },
 "nbformat": 4,
 "nbformat_minor": 4
}
