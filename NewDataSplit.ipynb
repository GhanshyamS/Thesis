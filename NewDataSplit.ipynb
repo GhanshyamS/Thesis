{
  "nbformat": 4,
  "nbformat_minor": 0,
  "metadata": {
    "colab": {
      "name": "NewDataSplit.ipynb",
      "provenance": []
    },
    "kernelspec": {
      "name": "python3",
      "display_name": "Python 3"
    },
    "language_info": {
      "name": "python"
    }
  },
  "cells": [
    {
      "cell_type": "code",
      "metadata": {
        "id": "v8o87ylyiUkh"
      },
      "source": [
        "import os\n",
        "import random\n",
        "import shutil\n",
        "import numpy as np\n",
        "import math\n",
        "folderName = ''\n",
        "counter = 0\n",
        "base_covid_folder = \"drive/MyDrive/Thesis/Baseline/data/COVID-19\"\n",
        "base_non_covid_folder = \"drive/MyDrive/Thesis/Baseline/data/Non-COVID-19\"\n",
        "train_covid19_data_folder = \"drive/MyDrive/Thesis/Baseline/data/train/COVID-19\"\n",
        "test_covid19_data_folder = \"drive/MyDrive/Thesis/Baseline/data/test/COVID-19\"\n",
        "train_non_covid19_data_folder = \"drive/MyDrive/Thesis/Baseline/data/train/Non-COVID-19\"\n",
        "test_non_covid19_data_folder = \"drive/MyDrive/Thesis/Baseline/data/test/Non-COVID-19\"\n",
        "split_value = 50"
      ],
      "execution_count": null,
      "outputs": []
    },
    {
      "cell_type": "code",
      "metadata": {
        "colab": {
          "base_uri": "https://localhost:8080/"
        },
        "id": "YwAphci7ibDU",
        "outputId": "3adbbfef-1dfe-497b-f6aa-bef28835a7ec"
      },
      "source": [
        "from google.colab import drive\n",
        "drive.mount('/content/drive/')"
      ],
      "execution_count": null,
      "outputs": [
        {
          "output_type": "stream",
          "text": [
            "Mounted at /content/drive/\n"
          ],
          "name": "stdout"
        }
      ]
    },
    {
      "cell_type": "code",
      "metadata": {
        "id": "IVY488PkigsZ"
      },
      "source": [
        "#count number of images in the folder\n",
        "def countNumberOfImagesInFolder(folderName):\n",
        "  counter = 0\n",
        "  for root, dirs, files in os.walk(folderName):\n",
        "    for file in files:\n",
        "       counter = counter +1\n",
        "  return counter"
      ],
      "execution_count": null,
      "outputs": []
    },
    {
      "cell_type": "code",
      "metadata": {
        "colab": {
          "base_uri": "https://localhost:8080/"
        },
        "id": "Zm47Na5uikaJ",
        "outputId": "38c56b88-d3c0-4555-c0de-4ff6cea923ac"
      },
      "source": [
        "#count number of images in the folder\n",
        "total_no_of_covid_data =countNumberOfImagesInFolder(base_covid_folder)\n",
        "print('total covid data ',total_no_of_covid_data )"
      ],
      "execution_count": null,
      "outputs": [
        {
          "output_type": "stream",
          "text": [
            "total covid data  0\n"
          ],
          "name": "stdout"
        }
      ]
    },
    {
      "cell_type": "code",
      "metadata": {
        "id": "gm9PIYypkCYG"
      },
      "source": [
        ""
      ],
      "execution_count": null,
      "outputs": []
    },
    {
      "cell_type": "code",
      "metadata": {
        "colab": {
          "base_uri": "https://localhost:8080/"
        },
        "id": "uR3yTeyZiroT",
        "outputId": "2288a30f-fae5-4f8f-f99b-e8105c607816"
      },
      "source": [
        "#count number of images in the folder\n",
        "counter_non_covid_data = countNumberOfImagesInFolder(base_non_covid_folder)\n",
        "print('train non-covid-data ', counter_non_covid_data)"
      ],
      "execution_count": null,
      "outputs": [
        {
          "output_type": "stream",
          "text": [
            "train non-covid-data  0\n"
          ],
          "name": "stdout"
        }
      ]
    },
    {
      "cell_type": "code",
      "metadata": {
        "id": "S9vYgQ9WivTR"
      },
      "source": [
        "def addImagesToList(file_list,directory):\n",
        "  for root, dirs, files in os.walk(directory):\n",
        "    for file in files:\n",
        "        #all \n",
        "        file_list.append(os.path.join(root, file))\n",
        "  return file_list"
      ],
      "execution_count": null,
      "outputs": []
    },
    {
      "cell_type": "code",
      "metadata": {
        "id": "8Vbwh7V7jctA"
      },
      "source": [
        "covid_files_list = []\n",
        "non_covid_files_list = []\n",
        "covid_files_list = addImagesToList(covid_files_list,base_covid_folder)\n",
        "non_covid_files_list = addImagesToList(non_covid_files_list,base_non_covid_folder)\n",
        "total_no_of_covid_data = len(covid_files_list)\n",
        "total_no_of_non_covid_data = len(non_covid_files_list)"
      ],
      "execution_count": null,
      "outputs": []
    },
    {
      "cell_type": "code",
      "metadata": {
        "id": "eVmYIFMejYrb"
      },
      "source": [
        "def move_files_to_destination(destination_folder,files_list,split_value,file_count):\n",
        "  split_no_of_files = (split_value/100)*file_count\n",
        "  split_no_of_files = math.floor(split_no_of_files)\n",
        "  print('split files to ',split_no_of_files)\n",
        "  if os.path.isdir(destination_folder) == False:\n",
        "    os.makedirs(destination_folder)\n",
        "  filesToCopy = random.sample(files_list,split_no_of_files)\n",
        "  index = 0\n",
        "  for file in filesToCopy:\n",
        "    shutil.move(file,destination_folder)\n",
        "    index=files_list.index(file)\n",
        "    files_list.pop(index)\n",
        "  print('remaining covid_files_list ', len(files_list))"
      ],
      "execution_count": null,
      "outputs": []
    },
    {
      "cell_type": "code",
      "metadata": {
        "id": "TbGA5TI9nBjU"
      },
      "source": [
        "#move files to train folder \n",
        "move_files_to_destination(train_covid19_data_folder,covid_files_list,split_value,total_no_of_covid_data)\n",
        "move_files_to_destination(train_non_covid19_data_folder,non_covid_files_list,split_value,total_no_of_non_covid_data)"
      ],
      "execution_count": null,
      "outputs": []
    },
    {
      "cell_type": "code",
      "metadata": {
        "id": "uuYBx3zPsXtH"
      },
      "source": [
        "#move remaining files to the tet  folder\n",
        "def move_remaining_files_to_destination(destination_folder,files_list):\n",
        "  for file in files_list:\n",
        "    shutil.move(file,destination_folder)"
      ],
      "execution_count": null,
      "outputs": []
    },
    {
      "cell_type": "code",
      "metadata": {
        "id": "xP7g_r1ztBry"
      },
      "source": [
        "move_remaining_files_to_destination(test_covid19_data_folder,covid_files_list)\n",
        "move_remaining_files_to_destination(test_non_covid19_data_folder,non_covid_files_list)"
      ],
      "execution_count": null,
      "outputs": []
    },
    {
      "cell_type": "code",
      "metadata": {
        "id": "MrdnBI-WuUZK"
      },
      "source": [
        "def copyBackToBaseFolder (train_source_folder,test_source_folder,destination_folder):\n",
        "  files_list=[]\n",
        "  for root, dirs, files in os.walk(train_covid19_data_folder):\n",
        "    for file in files:\n",
        "        #all \n",
        "       files_list.append(os.path.join(root, file))\n",
        "  for root, dirs, files in os.walk(test_covid19_data_folder):\n",
        "    for file in files:\n",
        "        #all \n",
        "        files_list.append(os.path.join(root, file))\n",
        "  for file in files_list:\n",
        "    shutil.move(file,destination_folder)"
      ],
      "execution_count": null,
      "outputs": []
    },
    {
      "cell_type": "code",
      "metadata": {
        "id": "II1o7IRztudr"
      },
      "source": [
        "#bring back all covid-19 image to parent data \n",
        "copyBackToBaseFolder(train_covid19_data_folder,test_covid19_data_folder,base_covid_folder)\n",
        "\n",
        "#bring back all non-covid-19 image to parent data \n",
        "copyBackToBaseFolder(train_non_covid19_data_folder,test_non_covid19_data_folder,base_non_covid_folder)\n"
      ],
      "execution_count": null,
      "outputs": []
    }
  ]
}
