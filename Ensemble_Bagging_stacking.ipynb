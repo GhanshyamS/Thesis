{
 "cells": [
  {
   "cell_type": "code",
   "execution_count": 1,
   "id": "538b802c",
   "metadata": {},
   "outputs": [
    {
     "name": "stderr",
     "output_type": "stream",
     "text": [
      "2022-04-20 13:22:27.119875: W tensorflow/stream_executor/platform/default/dso_loader.cc:64] Could not load dynamic library 'libcudart.so.11.0'; dlerror: libcudart.so.11.0: cannot open shared object file: No such file or directory\n",
      "2022-04-20 13:22:27.119903: I tensorflow/stream_executor/cuda/cudart_stub.cc:29] Ignore above cudart dlerror if you do not have a GPU set up on your machine.\n"
     ]
    }
   ],
   "source": [
    "#import necessary libraries\n",
    "import glob\n",
    "import os\n",
    "import numpy as np\n",
    "\n",
    "import tensorflow as tf\n",
    "from tensorflow.keras.preprocessing.image import ImageDataGenerator\n",
    "from tensorflow.keras.models import load_model\n",
    "from tensorflow.keras.estimator import model_to_estimator\n",
    "from tensorflow.keras.wrappers.scikit_learn import KerasClassifier\n",
    "from tensorflow.keras.applications.densenet import DenseNet121\n",
    "from tensorflow.keras.applications.resnet50 import ResNet50\n",
    "from tensorflow.keras.applications.efficientnet import EfficientNetB7\n",
    "from tensorflow.keras.models import Sequential\n",
    "from tensorflow.keras.layers import Flatten,Dense,Activation,Dropout\n",
    "from tensorflow.keras.optimizers import SGD,Adam\n",
    "from tensorflow.keras.utils import to_categorical\n",
    "from numpy import std,array,argmax\n",
    "from sklearn.metrics import accuracy_score\n",
    "from sklearn.svm import SVC\n",
    "import matplotlib.pyplot as plt\n",
    "import statistics\n",
    "from sklearn.metrics import precision_recall_fscore_support\n",
    "from sklearn.metrics import brier_score_loss\n"
   ]
  },
  {
   "cell_type": "code",
   "execution_count": 2,
   "id": "f88dbf2f",
   "metadata": {},
   "outputs": [],
   "source": [
    "def data_preparation_stacking():\n",
    "    train_path='train'\n",
    "    valid_path='test'\n",
    "    folders=glob.glob(\"test/*\") \n",
    "\n",
    "    train_no=len(os.listdir(train_path))\n",
    "\n",
    "\n",
    "\n",
    "    train_datagen= ImageDataGenerator(rescale=1./255, \n",
    "                                      shear_range=0.2,\n",
    "                                      zoom_range=0.2,\n",
    "                                      horizontal_flip=True,\n",
    "                                      rotation_range=30,\n",
    "                                      width_shift_range=0.2,\n",
    "                                     height_shift_range=0.2,\n",
    "\n",
    "                                    )\n",
    "\n",
    "    test_datagen= ImageDataGenerator(rescale=1./255)\n",
    "\n",
    "\n",
    "    training_set= train_datagen.flow_from_directory( 'train',\n",
    "                                                      target_size=(64,64),\n",
    "                                                      batch_size=512,\n",
    "                                                      color_mode='rgb',\n",
    "                                                      class_mode='binary'\n",
    "\n",
    "\n",
    "                                                    )\n",
    "    test_set=test_datagen.flow_from_directory( 'test',\n",
    "                                                target_size=(64,64),\n",
    "                                                batch_size=512,\n",
    "                                                color_mode='rgb',\n",
    "                                                class_mode='binary' \n",
    "                                            )\n",
    "\n",
    "\n",
    "    X_train,Y_train=next(training_set)\n",
    "    X_test,Y_test=next(test_set)\n",
    "\n",
    "    y_train=to_categorical(Y_train)\n",
    "    y_test=to_categorical(Y_test)\n",
    "\n",
    "    #for stacking\n",
    "    X_train,x_new=X_train[:448,:,:,:],X_train[448:,:,:,:]\n",
    "    y_Train,y_new=Y_train[:448],Y_train[448:]\n",
    "    y_train,Y_new=y_train[:448],y_train[448:]\n",
    "    \n",
    "    \n",
    "    return X_train,y_train,X_test,y_test,x_new,y_new,Y_test"
   ]
  },
  {
   "cell_type": "code",
   "execution_count": 3,
   "id": "51b420e9",
   "metadata": {},
   "outputs": [],
   "source": [
    "def data_preparation_bagging():\n",
    "    train_path='train'\n",
    "    valid_path='test'\n",
    "    folders=glob.glob(\"train/*\") \n",
    "\n",
    "    train_no=len(os.listdir(train_path))\n",
    "\n",
    "\n",
    "\n",
    "    train_datagen= ImageDataGenerator(rescale=1./255, \n",
    "                                      shear_range=0.2,\n",
    "                                      zoom_range=0.2,\n",
    "                                      horizontal_flip=True,\n",
    "                                      rotation_range=30,\n",
    "                                      width_shift_range=0.2,\n",
    "                                     height_shift_range=0.2,\n",
    "\n",
    "                                    )\n",
    "\n",
    "    test_datagen= ImageDataGenerator(rescale=1./255)\n",
    "\n",
    "\n",
    "    training_set= train_datagen.flow_from_directory( 'train',\n",
    "                                                      target_size=(128,128),\n",
    "                                                      batch_size=256,\n",
    "                                                      color_mode='rgb',\n",
    "                                                      class_mode='binary'\n",
    "\n",
    "\n",
    "                                                    )\n",
    "    test_set=test_datagen.flow_from_directory( 'test',\n",
    "                                                target_size=(128,128),\n",
    "                                                batch_size=256,\n",
    "                                                color_mode='rgb',\n",
    "                                                class_mode='binary' \n",
    "                                            )\n",
    "\n",
    "\n",
    "    X_train,Y_train=next(training_set)\n",
    "    X_test,Y_test=next(test_set)\n",
    "\n",
    "    y_train=to_categorical(Y_train)\n",
    "    y_test=to_categorical(Y_test)\n",
    "    \n",
    "    return X_train,y_train,X_test,y_test,Y_train,Y_test"
   ]
  },
  {
   "cell_type": "code",
   "execution_count": 4,
   "id": "f5107b76",
   "metadata": {},
   "outputs": [],
   "source": [
    "def base_model_stacking():\n",
    "    basemodel_resnet=ResNet50( include_top=False,\n",
    "        weights=\"imagenet\",\n",
    "        input_shape=(64,64,3),\n",
    "        classes=2)\n",
    "\n",
    "    basemodel_efficientnet=EfficientNetB7( include_top=False,\n",
    "        weights=\"imagenet\",\n",
    "        input_shape=(64,64,3),\n",
    "        classes=2)\n",
    "\n",
    "    basemodel_desnet=DenseNet121( include_top=False,\n",
    "        weights=\"imagenet\",\n",
    "        input_shape=(64,64,3),\n",
    "        classes=2)\n",
    "    return basemodel_desnet,basemodel_resnet,basemodel_efficientnet"
   ]
  },
  {
   "cell_type": "code",
   "execution_count": 5,
   "id": "a4d5bbcc-3ec8-416d-8cb1-3625eb6d6441",
   "metadata": {},
   "outputs": [],
   "source": [
    "def  base_model_bagging():\n",
    "    basemodel_resnet=ResNet50( include_top=False,\n",
    "        weights=\"imagenet\",\n",
    "        input_shape=(128,128,3),\n",
    "        classes=2)\n",
    "\n",
    "    basemodel_efficientnet=EfficientNetB7( include_top=False,\n",
    "        weights=\"imagenet\",\n",
    "        input_shape=(128,128,3),\n",
    "        classes=2)\n",
    "\n",
    "    basemodel_desnet=DenseNet121( include_top=False,\n",
    "        weights=\"imagenet\",\n",
    "        input_shape=(128,128,3),\n",
    "        classes=2)\n",
    "    return basemodel_desnet,basemodel_resnet,basemodel_efficientnet"
   ]
  },
  {
   "cell_type": "code",
   "execution_count": 6,
   "id": "97bb4ab0-57de-4123-87f8-1e15b8dc54d0",
   "metadata": {},
   "outputs": [],
   "source": [
    "def report_plot(report,name=None):\n",
    "    plt.figure(figsize=(10,10))\n",
    "    x=list(report.keys())\n",
    "    y=list(report.values())\n",
    "    plt.bar(x,y)\n",
    "    \n",
    "def report_lineplot(report):\n",
    "    plt.figure(figsize=(10,10))\n",
    "    plt.title(\"Error_Graph\")\n",
    "    x=list(report.keys())\n",
    "    y=list(report.values())\n",
    "    plt.plot(x,y,c='r')\n",
    "    \n",
    "\n",
    "    "
   ]
  },
  {
   "cell_type": "markdown",
   "id": "8ffc7297",
   "metadata": {},
   "source": [
    "### Ensemble Bagging"
   ]
  },
  {
   "cell_type": "code",
   "execution_count": 7,
   "id": "127b6808-1cbb-4629-9235-c6595a176ef2",
   "metadata": {},
   "outputs": [],
   "source": [
    "def load_all_models_bagging(models):\n",
    "    all_models = dict()\n",
    "    for name in models:\n",
    "        # Specify the filename\n",
    "        filename = 'bagging/model_' + name + '.h5'\n",
    "        # load the model \n",
    "        model = load_model(filename)\n",
    "        # Add a list of all the weaker learners\n",
    "        all_models[name]=model\n",
    "        print('>loaded %s' % filename)\n",
    "    return all_models\n",
    "\n",
    "models_names=['Densenet121','Resnet50','EfficientnetB7']\n",
    "# ensemble bagging split samples with replacement and train each model\n",
    "def ensemble_bagging(X_train,Y_train,X_test,Y_test,models_lst,n_folds,basemodel_densenet,basemodel_resnet,basemodel_efficientnet,training=None):\n",
    "    if training==True:\n",
    "        # split samples with replacement\n",
    "        X_train_List=[]\n",
    "        Y_train_List=[]\n",
    "        for i in range(len(models_lst)):\n",
    "            indices=np.random.choice(X_train.shape[0],X_train.shape[0]//n_folds,replace=True)\n",
    "            X_train_samples=X_train[indices]\n",
    "            Y_train_samples=Y_train[indices]\n",
    "            X_train_List.append(X_train_samples)\n",
    "            Y_train_List.append(Y_train_samples)\n",
    "        # train each model\n",
    "        n_models=len(models_lst)\n",
    "        models={}\n",
    "        result={}\n",
    "        for i in range(n_models):\n",
    "            model_name=models_lst[i]\n",
    "            print(f\"training model {model_name}\")\n",
    "            model=Sequential()\n",
    "            if model_name=='Densenet121':\n",
    "                model.add(basemodel_densenet)\n",
    "            if model_name=='Resnet50':\n",
    "                model.add(basemodel_resnet)\n",
    "            if model_name=='EfficientnetB7':\n",
    "                model.add(basemodel_efficientnet)\n",
    "\n",
    "            model.add(Flatten())\n",
    "            model.add(Dense(64,activation=('relu')))\n",
    "            # model.add(Dropout(0.3))\n",
    "            # model.add(Dense(64,activation='relu'))\n",
    "            model.add(Dense(2,activation='sigmoid'))\n",
    "            model.compile(loss='binary_crossentropy',\n",
    "                          optimizer=SGD(learning_rate=0.001),\n",
    "                          metrics=['accuracy'])\n",
    "            model.fit(X_train_List[i],Y_train_List[i],epochs=5,verbose=1)\n",
    "            if not 'bagging' in os.listdir():\n",
    "                os.mkdir('bagging')\n",
    "            model.save(f'bagging/model_{model_name}.h5')\n",
    "\n",
    "            \n",
    "        \n",
    "            _,test_acc=model.evaluate(X_test,Y_test,verbose=1)\n",
    "            models[model_name]=model\n",
    "            result[f'{model_name}_accuracy']=test_acc\n",
    "        \n",
    "        \n",
    "    else:\n",
    "        result={}\n",
    "        models=load_all_models_bagging(models_lst)\n",
    "        for name,model in models.items():\n",
    "            _,test_acc=model.evaluate(X_test,Y_test,verbose=1)\n",
    "            result[f'{name}_accuracy']=test_acc\n",
    "    return models,result\n",
    "\n",
    "\n",
    "def bagging_voting(X_train,Y_train,X_test,Y_test,y_test,models_names,n_folds,basemodel_densenet,basemodel_resnet,basemodel_efficientnet,training):\n",
    "    models,final_result=ensemble_bagging(X_train,Y_train,X_test,Y_test,models_names,n_folds,basemodel_densenet,basemodel_resnet,basemodel_efficientnet,training)\n",
    "    result=[]\n",
    "    model_loss={}\n",
    "    for name,model in models.items():\n",
    "        pred=model.predict(X_test)\n",
    "        prediction=np.argmax(pred,axis=1)\n",
    "        loss=brier_score_loss(y_test,prediction)\n",
    "        model_loss[f'{name}_loss']=loss\n",
    "        \n",
    "        result.append(prediction)\n",
    "    \n",
    "    final_prediction=[]\n",
    "    for i in range(len(result[0])):\n",
    "        lst=[]\n",
    "        lst.append(result[0][i])\n",
    "        lst.append(result[1][i])\n",
    "        lst.append(result[2][i])\n",
    "        final_prediction.append(statistics.mode(lst))\n",
    "        \n",
    "     \n",
    "    return final_prediction,final_result,result,model_loss\n",
    "\n",
    "def bagging_classification_report(models_pred,y_test,bagging_pred):\n",
    "    precision_report={}    \n",
    "    recall_report={}\n",
    "    f1_score_report={}\n",
    "\n",
    "    classification_report_densenet=precision_recall_fscore_support(y_test,models_pred[0],average='weighted')\n",
    "    classification_report_resnet=precision_recall_fscore_support(y_test,models_pred[1],average='weighted')\n",
    "    classification_report_efficientnet=precision_recall_fscore_support(y_test,models_pred[2],average='weighted')\n",
    "    classification_report_bagging=precision_recall_fscore_support(y_test,bagging_pred,average='weighted')\n",
    "\n",
    "    precision_report['densenet_precision']=classification_report_densenet[0]\n",
    "    precision_report['resnet_precision']=classification_report_resnet[0]\n",
    "    precision_report['efficientnet_precision']=classification_report_efficientnet[0]\n",
    "    precision_report['bagging_precision']=classification_report_bagging[0]\n",
    "\n",
    "    recall_report['densenet_recall']=classification_report_densenet[1]\n",
    "    recall_report['resnet_recall']=classification_report_resnet[1]\n",
    "    recall_report['effiecientnet_recall']=classification_report_efficientnet[1]\n",
    "    recall_report['bagging_recall']=classification_report_bagging[1]\n",
    "\n",
    "    f1_score_report['densenet_f1score']=classification_report_densenet[2]\n",
    "    f1_score_report['resnet_f1score']=classification_report_resnet[2]\n",
    "    f1_score_report['efficientnet_f1score']=classification_report_efficientnet[2]\n",
    "    f1_score_report['bagging_f1score']=classification_report_bagging[2]\n",
    "\n",
    "    return precision_report,recall_report,f1_score_report\n",
    "\n"
   ]
  },
  {
   "cell_type": "code",
   "execution_count": 8,
   "id": "61e78fac",
   "metadata": {},
   "outputs": [],
   "source": [
    "def bagging_main():\n",
    "    models_names=['Densenet121','Resnet50','EfficientnetB7']\n",
    "    basemodel_densenet,basemodel_resnet,basemodel_efficientnet=base_model_bagging()\n",
    "    X_train,y_train,X_test,y_test,Y_train,Y_test=data_preparation_bagging()\n",
    "    final_prediction,accuracy_report,models_pred,loss_report=bagging_voting(X_train,y_train,X_test,y_test,Y_test,models_names,3,basemodel_densenet,basemodel_resnet,basemodel_efficientnet,training=True)\n",
    "    bagging_accuracy_score=accuracy_score(Y_test,final_prediction)\n",
    "    bagging_loss_score=brier_score_loss(Y_test,final_prediction)\n",
    "    accuracy_report['bagging_accuracy']=bagging_accuracy_score\n",
    "    loss_report['bagging_loss']=bagging_loss_score\n",
    "    precision_report,recall_report,f1_score_report=bagging_classification_report(models_pred,Y_test,final_prediction)\n",
    "    \n",
    "    \n",
    "    print(\"\\n\")\n",
    "    report_plot(accuracy_report)\n",
    "    report_lineplot(loss_report)\n",
    "    report_plot(precision_report)\n",
    "    report_plot(recall_report)\n",
    "    report_plot(f1_score_report)\n",
    "    \n",
    "    \n"
   ]
  },
  {
   "cell_type": "markdown",
   "id": "2017545b",
   "metadata": {},
   "source": [
    "### Ensemble Stacking"
   ]
  },
  {
   "cell_type": "code",
   "execution_count": 9,
   "id": "01a7ab6c",
   "metadata": {},
   "outputs": [],
   "source": [
    "# evaluate a single mlp model\n",
    "def get_model_trained(X_train,y_train,X_test,y_test,base_model,name=None):\n",
    "    # define model\n",
    "    model = Sequential()\n",
    "    model.add(base_model)\n",
    "    model.add(Flatten())\n",
    "    if name=='densenet':\n",
    "        model.add(Dense(128,activation=('relu')))\n",
    "    elif name=='resnet':\n",
    "        model.add(Dense(16,activation=('relu')))\n",
    "    elif name=='efficientnet':\n",
    "        model.add(Dense(32,activation=('relu')))\n",
    "    model.add(Dense(2, activation='sigmoid'))\n",
    "    model.compile(loss='binary_crossentropy', optimizer=SGD(learning_rate=0.001), metrics=['accuracy'])\n",
    "    # fit model\n",
    "    model.fit(X_train, y_train, epochs=5, verbose=1)\n",
    "    # evaluate the model\n",
    "    _, test_acc = model.evaluate(X_test, y_test, verbose=1)\n",
    "    return model, test_acc\n",
    "\n",
    "def load_all_models(models):\n",
    "    all_models = list()\n",
    "    for name in models:\n",
    "        # Specify the filename\n",
    "        filename = 'stacking/model_' + name + '.h5'\n",
    "        # load the model \n",
    "        model = load_model(filename)\n",
    "        # Add a list of all the weaker learners\n",
    "        all_models.append(model)\n",
    "        print('>loaded %s' % filename)\n",
    "    return all_models\n",
    "\n",
    "\n",
    "# create stacked model input dataset as outputs from the ensemble\n",
    "def create_stacked_dataset(members, X_test):\n",
    "    stackX=None\n",
    "    for model in members:\n",
    "        #make predictions\n",
    "        y_pred=model.predict(X_test)\n",
    "        # stack predictions into [rows, members, probabilities]\n",
    "        if stackX is None:\n",
    "            stackX=y_pred\n",
    "        else:\n",
    "            stackX=np.dstack((stackX,y_pred))\n",
    "\n",
    "    # flatten predictions to [rows, members * probabilities]\n",
    "    stackX=stackX.reshape((stackX.shape[0], stackX.shape[1]*stackX.shape[2]))\n",
    "    return stackX\n",
    "\n",
    "\n",
    "# fit meta model based on the outputs from the ensemble members\n",
    "def fit_stacked_model(members, X_test,y_train):\n",
    "    # create dataset using ensemble\n",
    "    stackedX=create_stacked_dataset(members, X_test)\n",
    "\n",
    "    # fit the SVM meta midel\n",
    "    meta_model=SVC()\n",
    "    meta_model.fit(stackedX,y_train)\n",
    "    return meta_model\n",
    "\n",
    "# make a prediction with the stacked model\n",
    "def stacked_predict(members, X_test, meta_model):\n",
    "    # create dataset using ensemble\n",
    "    stackedX=create_stacked_dataset(members, X_test)\n",
    "    # predict with the stacked model\n",
    "    return meta_model.predict(stackedX)\n",
    "\n",
    "\n",
    "def stacking_ensemble(X_train,y_train,X_test,y_test,x_new,y_new,Y_test,basemodel_desnet,basemodel_resnet,basemodel_efficientnet, models_training=True):\n",
    "    models=['densenet','resnet','efficientnet']  \n",
    "    if models_training==True:\n",
    "        print(\"Starting.....\")\n",
    "        print(\"Training Densenet121\")\n",
    "        model_densenet,testacc_densenet=get_model_trained(X_train,y_train,X_test,y_test,basemodel_desnet,name='densenet')\n",
    "        print(\"Training Resnet50\")\n",
    "        model_resnet,testacc_resnet=get_model_trained(X_train,y_train,X_test,y_test,basemodel_resnet,name='resnet')\n",
    "        print(\"Training EfficientnetB7\")\n",
    "        model_efficientnet,testacc_efficientnet=get_model_trained(X_train,y_train,X_test,y_test,basemodel_efficientnet,name='efficientnet')\n",
    "\n",
    "        if not 'stacking' in os.listdir():\n",
    "            os.mkdir('stacking')\n",
    "        else:\n",
    "            pass\n",
    "\n",
    "        model_densenet.save('stacking/model_densenet.h5')\n",
    "        model_resnet.save('stacking/model_resnet.h5')\n",
    "        model_efficientnet.save('stacking/model_efficientnet.h5')\n",
    " \n",
    "\n",
    "        members=load_all_models(models)\n",
    "        print('Loaded %d models' % len(members))\n",
    "    \n",
    "    else:\n",
    "        members=load_all_models(models)\n",
    "        print('Loaded %d models' % len(members))\n",
    "        for i in range(len(models)):\n",
    "            if models[i]=='densenet':\n",
    "                _,testacc_densenet=members[i].evaluate(X_test,y_test,verbose=0)\n",
    "            if models[i]=='resnet':\n",
    "                _,testacc_resnet=members[i].evaluate(X_test,y_test,verbose=0)\n",
    "            if models[i]=='efficientnet':\n",
    "                _,testacc_efficientnet=members[i].evaluate(X_test,y_test,verbose=0)\n",
    "\n",
    "\n",
    "            \n",
    "        \n",
    "\n",
    "    meta_model=fit_stacked_model(members,x_new,y_new)\n",
    "    \n",
    "    models_pred={}\n",
    "    loss={}\n",
    "    for i in range(len(models)):\n",
    "        pred=members[i].predict(X_test)\n",
    "        pred=np.argmax(pred,axis=1)\n",
    "        loss[f'{models[i]}_loss']=brier_score_loss(Y_test,pred)\n",
    "        models_pred[models[i]]=pred\n",
    "\n",
    "    meta_model_pred=stacked_predict(members, X_test, meta_model)\n",
    "    meta_model_loss=brier_score_loss(Y_test,meta_model_pred)\n",
    "    loss['stacked_meta_loss']=meta_model_loss\n",
    "\n",
    "    accuracy_dict={'densenet_accuracy':testacc_densenet,'resnet_accuracy':testacc_resnet,'efficientnet_accuracy':testacc_efficientnet,'stacked_meta_accuracy':accuracy_score(Y_test,meta_model_pred)}\n",
    "    return accuracy_dict, meta_model_pred,models_pred,loss"
   ]
  },
  {
   "cell_type": "code",
   "execution_count": 10,
   "id": "a9d91fa7",
   "metadata": {},
   "outputs": [],
   "source": [
    "def classification_report(models_pred,y_test,meta_model_pred):\n",
    "    precision_report={}    \n",
    "    recall_report={}\n",
    "    f1_score_report={}\n",
    "    \n",
    "    classification_report_densenet=precision_recall_fscore_support(y_test,models_pred['densenet'],average='weighted')\n",
    "    classification_report_resnet=precision_recall_fscore_support(y_test,models_pred['resnet'],average='weighted')\n",
    "    classification_report_efficientnet=precision_recall_fscore_support(y_test,models_pred['efficientnet'],average='weighted')\n",
    "    classification_report_stacking=precision_recall_fscore_support(y_test,meta_model_pred,average='weighted')\n",
    "    \n",
    "    precision_report['densenet_precision']=classification_report_densenet[0]\n",
    "    precision_report['resnet_precision']=classification_report_resnet[0]\n",
    "    precision_report['efficientnet_precision']=classification_report_efficientnet[0]\n",
    "    precision_report['stacked_meta_precision']=classification_report_stacking[0]\n",
    "    \n",
    "    recall_report['densenet_recall']=classification_report_densenet[1]\n",
    "    recall_report['resnet_recall']=classification_report_resnet[1]\n",
    "    recall_report['effiecientnet_recall']=classification_report_efficientnet[1]\n",
    "    recall_report['stacked_meta_recall']=classification_report_stacking[1]\n",
    "    \n",
    "    f1_score_report['densenet_f1score']=classification_report_densenet[2]\n",
    "    f1_score_report['resnet_f1score']=classification_report_resnet[2]\n",
    "    f1_score_report['efficientnet_f1score']=classification_report_efficientnet[2]\n",
    "    f1_score_report['stacked_meta_f1score']=classification_report_stacking[2]\n",
    "    \n",
    "    return precision_report,recall_report,f1_score_report\n"
   ]
  },
  {
   "cell_type": "code",
   "execution_count": 11,
   "id": "ffa6703f",
   "metadata": {},
   "outputs": [],
   "source": [
    "def stacking_main():\n",
    "    X_train,y_train,X_test,y_test,x_new,y_new,Y_test=data_preparation_stacking()\n",
    "    basemodel_densenet,basemodel_resnet,basemodel_efficientnet=base_model_stacking()\n",
    "    accuracy_report,meta_model_pred,models_pred,loss_report=stacking_ensemble(X_train,y_train,X_test,y_test,x_new,y_new,Y_test,basemodel_densenet,basemodel_resnet,basemodel_efficientnet,\n",
    "                                                                              models_training=True)\n",
    "    precision_report,recall_report,f1_score_report=classification_report(models_pred,Y_test,meta_model_pred)\n",
    "    \n",
    "    \n",
    "    print(\"\\n\")\n",
    "    report_plot(accuracy_report)\n",
    "    report_lineplot(loss_report)\n",
    "    report_plot(precision_report)\n",
    "    report_plot(recall_report)\n",
    "    report_plot(f1_score_report)"
   ]
  },
  {
   "cell_type": "code",
   "execution_count": 14,
   "id": "cc07df1b-b3b4-41d1-a50d-9f0d3905aded",
   "metadata": {},
   "outputs": [],
   "source": [
    "def ensemble_method_main():\n",
    "    print(\"*************************************** ENSEMBLE BAGGING *************************************************\")\n",
    "    print(\"\\n\")\n",
    "    bagging_main()\n",
    "    print(\"\\n\")\n",
    "    \n",
    "    print(\"*************************************** ENSEMBLE STACKING ********************************************\")\n",
    "    stacking_main()\n",
    "    \n",
    "    print(\"--------------------------Bagging and Stacking Report Analysis-------------------------------------------\")\n",
    "\n",
    "    \n",
    "    "
   ]
  },
  {
   "cell_type": "code",
   "execution_count": 13,
   "id": "ac266bf9-99d8-4559-87f8-24fb368e86c1",
   "metadata": {},
   "outputs": [
    {
     "name": "stdout",
     "output_type": "stream",
     "text": [
      "*************************************** ENSEMBLE BAGGING ********************************************\n",
      "\n",
      "\n"
     ]
    },
    {
     "name": "stderr",
     "output_type": "stream",
     "text": [
      "2022-04-20 13:22:34.975441: W tensorflow/stream_executor/platform/default/dso_loader.cc:64] Could not load dynamic library 'libcuda.so.1'; dlerror: libcuda.so.1: cannot open shared object file: No such file or directory\n",
      "2022-04-20 13:22:34.975482: W tensorflow/stream_executor/cuda/cuda_driver.cc:269] failed call to cuInit: UNKNOWN ERROR (303)\n",
      "2022-04-20 13:22:34.975507: I tensorflow/stream_executor/cuda/cuda_diagnostics.cc:156] kernel driver does not appear to be running on this host (default): /proc/driver/nvidia/version does not exist\n",
      "2022-04-20 13:22:34.975724: I tensorflow/core/platform/cpu_feature_guard.cc:151] This TensorFlow binary is optimized with oneAPI Deep Neural Network Library (oneDNN) to use the following CPU instructions in performance-critical operations:  AVX2 AVX512F FMA\n",
      "To enable them in other operations, rebuild TensorFlow with the appropriate compiler flags.\n"
     ]
    },
    {
     "name": "stdout",
     "output_type": "stream",
     "text": [
      "Found 6244 images belonging to 2 classes.\n",
      "Found 1562 images belonging to 2 classes.\n",
      "training model Densenet121\n",
      "Epoch 1/5\n",
      "3/3 [==============================] - 19s 3s/step - loss: 0.7672 - accuracy: 0.5647\n",
      "Epoch 2/5\n",
      "3/3 [==============================] - 10s 3s/step - loss: 0.5796 - accuracy: 0.7059\n",
      "Epoch 3/5\n",
      "3/3 [==============================] - 10s 3s/step - loss: 0.4594 - accuracy: 0.8471\n",
      "Epoch 4/5\n",
      "3/3 [==============================] - 9s 3s/step - loss: 0.3523 - accuracy: 0.9294\n",
      "Epoch 5/5\n",
      "3/3 [==============================] - 9s 3s/step - loss: 0.2935 - accuracy: 0.9882\n",
      "8/8 [==============================] - 6s 558ms/step - loss: 0.9336 - accuracy: 0.5000\n",
      "training model Resnet50\n",
      "Epoch 1/5\n",
      "3/3 [==============================] - 17s 3s/step - loss: 0.8181 - accuracy: 0.5059\n",
      "Epoch 2/5\n",
      "3/3 [==============================] - 10s 3s/step - loss: 0.5638 - accuracy: 0.7529\n",
      "Epoch 3/5\n",
      "3/3 [==============================] - 10s 3s/step - loss: 0.3271 - accuracy: 0.9059\n",
      "Epoch 4/5\n",
      "3/3 [==============================] - 10s 3s/step - loss: 0.2152 - accuracy: 0.9647\n",
      "Epoch 5/5\n",
      "3/3 [==============================] - 10s 3s/step - loss: 0.1266 - accuracy: 1.0000\n",
      "8/8 [==============================] - 5s 539ms/step - loss: 0.7986 - accuracy: 0.5234\n",
      "training model EfficientnetB7\n",
      "Epoch 1/5\n",
      "3/3 [==============================] - 58s 9s/step - loss: 0.7177 - accuracy: 0.5647\n",
      "Epoch 2/5\n",
      "3/3 [==============================] - 30s 9s/step - loss: 0.7232 - accuracy: 0.5412\n",
      "Epoch 3/5\n",
      "3/3 [==============================] - 29s 9s/step - loss: 0.7065 - accuracy: 0.6235\n",
      "Epoch 4/5\n",
      "3/3 [==============================] - 29s 9s/step - loss: 0.6899 - accuracy: 0.6000\n",
      "Epoch 5/5\n",
      "3/3 [==============================] - 30s 9s/step - loss: 0.6490 - accuracy: 0.6588\n",
      "8/8 [==============================] - 20s 2s/step - loss: 0.7351 - accuracy: 0.5234\n"
     ]
    },
    {
     "name": "stderr",
     "output_type": "stream",
     "text": [
      "/home/studio-lab-user/.conda/envs/d2l/lib/python3.9/site-packages/sklearn/metrics/_classification.py:1318: UndefinedMetricWarning: Precision and F-score are ill-defined and being set to 0.0 in labels with no predicted samples. Use `zero_division` parameter to control this behavior.\n",
      "  _warn_prf(average, modifier, msg_start, len(result))\n",
      "/home/studio-lab-user/.conda/envs/d2l/lib/python3.9/site-packages/sklearn/metrics/_classification.py:1318: UndefinedMetricWarning: Precision and F-score are ill-defined and being set to 0.0 in labels with no predicted samples. Use `zero_division` parameter to control this behavior.\n",
      "  _warn_prf(average, modifier, msg_start, len(result))\n",
      "/home/studio-lab-user/.conda/envs/d2l/lib/python3.9/site-packages/sklearn/metrics/_classification.py:1318: UndefinedMetricWarning: Precision and F-score are ill-defined and being set to 0.0 in labels with no predicted samples. Use `zero_division` parameter to control this behavior.\n",
      "  _warn_prf(average, modifier, msg_start, len(result))\n"
     ]
    },
    {
     "name": "stdout",
     "output_type": "stream",
     "text": [
      "\n",
      "\n",
      "\n",
      "\n",
      "*************************************** ENSEMBLE STACKING ********************************************\n",
      "Found 6244 images belonging to 2 classes.\n",
      "Found 1562 images belonging to 2 classes.\n",
      "Starting.....\n",
      "Training Densenet121\n",
      "Epoch 1/5\n",
      "14/14 [==============================] - 23s 961ms/step - loss: 0.9176 - accuracy: 0.4978\n",
      "Epoch 2/5\n",
      "14/14 [==============================] - 13s 956ms/step - loss: 0.7533 - accuracy: 0.5938\n",
      "Epoch 3/5\n",
      "14/14 [==============================] - 14s 966ms/step - loss: 0.6517 - accuracy: 0.6987\n",
      "Epoch 4/5\n",
      "14/14 [==============================] - 13s 954ms/step - loss: 0.6035 - accuracy: 0.7321\n",
      "Epoch 5/5\n",
      "14/14 [==============================] - 14s 970ms/step - loss: 0.5208 - accuracy: 0.7991\n",
      "16/16 [==============================] - 5s 179ms/step - loss: 0.8754 - accuracy: 0.5781\n",
      "Training Resnet50\n",
      "Epoch 1/5\n",
      "14/14 [==============================] - 34s 2s/step - loss: 0.8741 - accuracy: 0.4821\n",
      "Epoch 2/5\n",
      "14/14 [==============================] - 29s 2s/step - loss: 0.7474 - accuracy: 0.5670\n",
      "Epoch 3/5\n",
      "14/14 [==============================] - 28s 2s/step - loss: 0.7022 - accuracy: 0.5982\n",
      "Epoch 4/5\n",
      "14/14 [==============================] - 28s 2s/step - loss: 0.6549 - accuracy: 0.6652\n",
      "Epoch 5/5\n",
      "14/14 [==============================] - 29s 2s/step - loss: 0.5628 - accuracy: 0.7455\n",
      "16/16 [==============================] - 4s 178ms/step - loss: 0.8426 - accuracy: 0.5508\n",
      "Training EfficientnetB7\n",
      "Epoch 1/5\n",
      "14/14 [==============================] - 82s 4s/step - loss: 0.7674 - accuracy: 0.5201\n",
      "Epoch 2/5\n",
      "14/14 [==============================] - 61s 4s/step - loss: 0.7702 - accuracy: 0.5156\n",
      "Epoch 3/5\n",
      "14/14 [==============================] - 59s 4s/step - loss: 0.7434 - accuracy: 0.5223\n",
      "Epoch 4/5\n",
      "14/14 [==============================] - 59s 4s/step - loss: 0.7379 - accuracy: 0.5246\n",
      "Epoch 5/5\n",
      "14/14 [==============================] - 59s 4s/step - loss: 0.7295 - accuracy: 0.5469\n",
      "16/16 [==============================] - 14s 498ms/step - loss: 1.0459 - accuracy: 0.4492\n",
      ">loaded stacking/model_densenet.h5\n",
      ">loaded stacking/model_resnet.h5\n",
      ">loaded stacking/model_efficientnet.h5\n",
      "Loaded 3 models\n"
     ]
    },
    {
     "name": "stderr",
     "output_type": "stream",
     "text": [
      "/home/studio-lab-user/.conda/envs/d2l/lib/python3.9/site-packages/sklearn/metrics/_classification.py:1318: UndefinedMetricWarning: Precision and F-score are ill-defined and being set to 0.0 in labels with no predicted samples. Use `zero_division` parameter to control this behavior.\n",
      "  _warn_prf(average, modifier, msg_start, len(result))\n",
      "/home/studio-lab-user/.conda/envs/d2l/lib/python3.9/site-packages/sklearn/metrics/_classification.py:1318: UndefinedMetricWarning: Precision and F-score are ill-defined and being set to 0.0 in labels with no predicted samples. Use `zero_division` parameter to control this behavior.\n",
      "  _warn_prf(average, modifier, msg_start, len(result))\n"
     ]
    },
    {
     "name": "stdout",
     "output_type": "stream",
     "text": [
      "\n",
      "\n",
      "--------------------------Bagging and Stacking Report Analysis-------------------------------------------\n"
     ]
    },
    {
     "data": {
      "image/png": "[encoded data removed]",
      "text/plain": [
       "<Figure size 720x720 with 1 Axes>"
      ]
     },
     "metadata": {
      "needs_background": "light"
     },
     "output_type": "display_data"
    },
    {
     "data": {
      "image/png": "[encoded data removed]",
      "text/plain": [
       "<Figure size 720x720 with 1 Axes>"
      ]
     },
     "metadata": {
      "needs_background": "light"
     },
     "output_type": "display_data"
    },
    {
     "data": {
      "image/png": "[encoded data removed]",
      "text/plain": [
       "<Figure size 720x720 with 1 Axes>"
      ]
     },
     "metadata": {
      "needs_background": "light"
     },
     "output_type": "display_data"
    },
    {
     "data": {
      "image/png": "[encoded data removed]",
      "text/plain": [
       "<Figure size 720x720 with 1 Axes>"
      ]
     },
     "metadata": {
      "needs_background": "light"
     },
     "output_type": "display_data"
    },
    {
     "data": {
      "image/png": "[encoded data removed]",
      "text/plain": [
       "<Figure size 720x720 with 1 Axes>"
      ]
     },
     "metadata": {
      "needs_background": "light"
     },
     "output_type": "display_data"
    },
    {
     "data": {
      "image/png": "[encoded data removed]",
      "text/plain": [
       "<Figure size 720x720 with 1 Axes>"
      ]
     },
     "metadata": {
      "needs_background": "light"
     },
     "output_type": "display_data"
    },
    {
     "data": {
      "image/png": "[encoded data removed]",
      "text/plain": [
       "<Figure size 720x720 with 1 Axes>"
      ]
     },
     "metadata": {
      "needs_background": "light"
     },
     "output_type": "display_data"
    },
    {
     "data": {
      "image/png": "[encoded data removed]",
      "text/plain": [
       "<Figure size 720x720 with 1 Axes>"
      ]
     },
     "metadata": {
      "needs_background": "light"
     },
     "output_type": "display_data"
    },
    {
     "data": {
      "image/png": "[encoded data removed]",
      "text/plain": [
       "<Figure size 720x720 with 1 Axes>"
      ]
     },
     "metadata": {
      "needs_background": "light"
     },
     "output_type": "display_data"
    },
    {
     "data": {
      "image/png": "[encoded data removed]",
      "text/plain": [
       "<Figure size 720x720 with 1 Axes>"
      ]
     },
     "metadata": {
      "needs_background": "light"
     },
     "output_type": "display_data"
    }
   ],
   "source": [
    "ensemble_method_main()"
   ]
  },
  {
   "cell_type": "markdown",
   "id": "ca945218-4a33-42db-aa91-c248fdfab47d",
   "metadata": {},
   "source": [
    "##### "
   ]
  }
 ],
 "metadata": {
  "kernelspec": {
   "display_name": "d2l:Python",
   "language": "python",
   "name": "conda-env-d2l-py"
  },
  "language_info": {
   "codemirror_mode": {
    "name": "ipython",
    "version": 3
   },
   "file_extension": ".py",
   "mimetype": "text/x-python",
   "name": "python",
   "nbconvert_exporter": "python",
   "pygments_lexer": "ipython3",
   "version": "3.9.9"
  }
 },
 "nbformat": 4,
 "nbformat_minor": 5
}
