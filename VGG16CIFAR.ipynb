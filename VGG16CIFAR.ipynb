{
  "nbformat": 4,
  "nbformat_minor": 0,
  "metadata": {
    "colab": {
      "name": "VGG16CIFAR.ipynb",
      "provenance": [],
      "collapsed_sections": []
    },
    "kernelspec": {
      "name": "python3",
      "display_name": "Python 3"
    },
    "language_info": {
      "name": "python"
    },
    "accelerator": "GPU"
  },
  "cells": [
    {
      "cell_type": "code",
      "metadata": {
        "colab": {
          "base_uri": "https://localhost:8080/"
        },
        "id": "oemR6XqppakF",
        "outputId": "60730ecd-bde5-4457-f408-0c23af03da7b"
      },
      "source": [
        "from keras.applications.vgg16 import VGG16\n",
        "from keras.utils.vis_utils import plot_model\n",
        "import numpy as np\n",
        "import tensorflow as tf \n",
        "from tensorflow.keras.models import Model\n",
        "from tensorflow import keras\n",
        "import cv2\n",
        "#plot_model(model)\n",
        "#import tensorflow as tf\n",
        "from keras.utils.np_utils import to_categorical\n",
        "from keras import utils as np_utils\n",
        "from sklearn.model_selection import train_test_split\n",
        "from keras.applications.vgg16 import preprocess_input\n",
        "from keras import backend as K\n",
        "from keras import optimizers\n",
        "from keras.layers import Dense,Flatten\n",
        "from keras import layers\n",
        "from keras import models\n",
        "from keras.layers import Dense,Dropout,Flatten,Conv2D,MaxPooling2D\n",
        "%tensorflow_version 1.x"
      ],
      "execution_count": 3,
      "outputs": [
        {
          "output_type": "stream",
          "text": [
            "TensorFlow is already loaded. Please restart the runtime to change versions.\n"
          ],
          "name": "stdout"
        }
      ]
    },
    {
      "cell_type": "markdown",
      "metadata": {
        "id": "eBPj0-yxDOVq"
      },
      "source": [
        "https://www.youtube.com/watch?v=7HPwo4wnJeA\n"
      ]
    },
    {
      "cell_type": "code",
      "metadata": {
        "id": "zsxKkWkT6RQM",
        "colab": {
          "base_uri": "https://localhost:8080/"
        },
        "outputId": "c6d507f5-fc75-4ecb-adb8-146bf83b848c"
      },
      "source": [
        "(x_train,y_train),(x_test,y_test)=keras.datasets.cifar10.load_data()\n",
        "print(x_train.shape)\n",
        "# train_X= x_train.reshape(-1,32,32,3)\n",
        "# test_X = x_test.reshape(-1,32,32,3)\n",
        "# train_X = train_X.astype('float32')\n",
        "# test_X = test_X.astype('float32')\n",
        "# train_X = train_X/255\n",
        "# test_X=test_X/255\n",
        "train_Y_one_hot = to_categorical(y_train)\n",
        "test_Y_one_hot  = to_categorical(y_test)\n",
        "print(y_train)"
      ],
      "execution_count": 45,
      "outputs": [
        {
          "output_type": "stream",
          "text": [
            "(50000, 32, 32, 3)\n",
            "[[6]\n",
            " [9]\n",
            " [9]\n",
            " ...\n",
            " [9]\n",
            " [1]\n",
            " [1]]\n"
          ],
          "name": "stdout"
        }
      ]
    },
    {
      "cell_type": "code",
      "metadata": {
        "colab": {
          "base_uri": "https://localhost:8080/"
        },
        "id": "muvhFH8O2ELD",
        "outputId": "4d780118-f974-4e8a-a142-01eda3744a0f"
      },
      "source": [
        "vgg_conv = VGG16(weights=\"imagenet\",include_top=False,input_shape=(32,32,3))\n",
        "for layer in vgg_conv.layers:\n",
        "  layer.trainable=True\n",
        "#for layer in vgg_conv.layers:\n",
        "  #print(layer,layer.trainable)\n",
        "print(vgg_conv.summary())"
      ],
      "execution_count": 5,
      "outputs": [
        {
          "output_type": "stream",
          "text": [
            "Downloading data from https://storage.googleapis.com/tensorflow/keras-applications/vgg16/vgg16_weights_tf_dim_ordering_tf_kernels_notop.h5\n",
            "58892288/58889256 [==============================] - 2s 0us/step\n",
            "58900480/58889256 [==============================] - 2s 0us/step\n",
            "Model: \"vgg16\"\n",
            "_________________________________________________________________\n",
            "Layer (type)                 Output Shape              Param #   \n",
            "=================================================================\n",
            "input_1 (InputLayer)         [(None, 32, 32, 3)]       0         \n",
            "_________________________________________________________________\n",
            "block1_conv1 (Conv2D)        (None, 32, 32, 64)        1792      \n",
            "_________________________________________________________________\n",
            "block1_conv2 (Conv2D)        (None, 32, 32, 64)        36928     \n",
            "_________________________________________________________________\n",
            "block1_pool (MaxPooling2D)   (None, 16, 16, 64)        0         \n",
            "_________________________________________________________________\n",
            "block2_conv1 (Conv2D)        (None, 16, 16, 128)       73856     \n",
            "_________________________________________________________________\n",
            "block2_conv2 (Conv2D)        (None, 16, 16, 128)       147584    \n",
            "_________________________________________________________________\n",
            "block2_pool (MaxPooling2D)   (None, 8, 8, 128)         0         \n",
            "_________________________________________________________________\n",
            "block3_conv1 (Conv2D)        (None, 8, 8, 256)         295168    \n",
            "_________________________________________________________________\n",
            "block3_conv2 (Conv2D)        (None, 8, 8, 256)         590080    \n",
            "_________________________________________________________________\n",
            "block3_conv3 (Conv2D)        (None, 8, 8, 256)         590080    \n",
            "_________________________________________________________________\n",
            "block3_pool (MaxPooling2D)   (None, 4, 4, 256)         0         \n",
            "_________________________________________________________________\n",
            "block4_conv1 (Conv2D)        (None, 4, 4, 512)         1180160   \n",
            "_________________________________________________________________\n",
            "block4_conv2 (Conv2D)        (None, 4, 4, 512)         2359808   \n",
            "_________________________________________________________________\n",
            "block4_conv3 (Conv2D)        (None, 4, 4, 512)         2359808   \n",
            "_________________________________________________________________\n",
            "block4_pool (MaxPooling2D)   (None, 2, 2, 512)         0         \n",
            "_________________________________________________________________\n",
            "block5_conv1 (Conv2D)        (None, 2, 2, 512)         2359808   \n",
            "_________________________________________________________________\n",
            "block5_conv2 (Conv2D)        (None, 2, 2, 512)         2359808   \n",
            "_________________________________________________________________\n",
            "block5_conv3 (Conv2D)        (None, 2, 2, 512)         2359808   \n",
            "_________________________________________________________________\n",
            "block5_pool (MaxPooling2D)   (None, 1, 1, 512)         0         \n",
            "=================================================================\n",
            "Total params: 14,714,688\n",
            "Trainable params: 14,714,688\n",
            "Non-trainable params: 0\n",
            "_________________________________________________________________\n",
            "None\n"
          ],
          "name": "stdout"
        }
      ]
    },
    {
      "cell_type": "code",
      "metadata": {
        "colab": {
          "base_uri": "https://localhost:8080/"
        },
        "id": "FPK_yjzU3oE9",
        "outputId": "b4891eaa-3ed6-41ed-c2e9-408cd916d978"
      },
      "source": [
        "print(x_train.shape)\n",
        "print(y_train.shape)\n",
        "#network.summary()\n",
        "#network.compile(optimizer='adam',loss=\"sparse_categorical_crossentropy\",metrics=['accuracy'])\n",
        "#history = network.fit(x_train,y_train,validation_data=(x_test,y_test),epochs=50)\n",
        "vgg_conv.compile(optimizer='adam',loss=\"sparse_categorical_crossentropy\",metrics=['accuracy'])\n",
        "history = vgg_conv.fit(x_train,y_train,validation_data=(x_test,y_test),epochs=10)"
      ],
      "execution_count": 6,
      "outputs": [
        {
          "output_type": "stream",
          "text": [
            "(50000, 32, 32, 3)\n",
            "(50000, 1)\n",
            "Epoch 1/10\n",
            "1563/1563 [==============================] - 127s 62ms/step - loss: 16.1198 - accuracy: 0.0000e+00 - val_loss: 16.1182 - val_accuracy: 0.0000e+00\n",
            "Epoch 2/10\n",
            "1563/1563 [==============================] - 96s 61ms/step - loss: 16.1178 - accuracy: 0.0000e+00 - val_loss: 16.1182 - val_accuracy: 0.0000e+00\n",
            "Epoch 3/10\n",
            "1563/1563 [==============================] - 96s 61ms/step - loss: 16.1178 - accuracy: 0.0000e+00 - val_loss: 16.1182 - val_accuracy: 0.0000e+00\n",
            "Epoch 4/10\n",
            "1563/1563 [==============================] - 96s 61ms/step - loss: 16.1178 - accuracy: 0.0000e+00 - val_loss: 16.1182 - val_accuracy: 0.0000e+00\n",
            "Epoch 5/10\n",
            "1563/1563 [==============================] - 96s 61ms/step - loss: 16.1178 - accuracy: 0.0000e+00 - val_loss: 16.1182 - val_accuracy: 0.0000e+00\n",
            "Epoch 6/10\n",
            "1563/1563 [==============================] - 96s 61ms/step - loss: 16.1178 - accuracy: 0.0000e+00 - val_loss: 16.1182 - val_accuracy: 0.0000e+00\n",
            "Epoch 7/10\n",
            "1563/1563 [==============================] - 96s 61ms/step - loss: 16.1178 - accuracy: 0.0000e+00 - val_loss: 16.1182 - val_accuracy: 0.0000e+00\n",
            "Epoch 8/10\n",
            "1563/1563 [==============================] - 96s 61ms/step - loss: 16.1178 - accuracy: 0.0000e+00 - val_loss: 16.1182 - val_accuracy: 0.0000e+00\n",
            "Epoch 9/10\n",
            "1563/1563 [==============================] - 96s 61ms/step - loss: 16.1178 - accuracy: 0.0000e+00 - val_loss: 16.1182 - val_accuracy: 0.0000e+00\n",
            "Epoch 10/10\n",
            "1563/1563 [==============================] - 96s 61ms/step - loss: 16.1178 - accuracy: 0.0000e+00 - val_loss: 16.1182 - val_accuracy: 0.0000e+00\n"
          ],
          "name": "stdout"
        }
      ]
    },
    {
      "cell_type": "code",
      "metadata": {
        "id": "TCmtKYDK9mHh"
      },
      "source": [
        "vgg_conv.save_weights('VGG16CIFAR.h5')"
      ],
      "execution_count": 7,
      "outputs": []
    },
    {
      "cell_type": "markdown",
      "metadata": {
        "id": "tbB4xke4Ag-V"
      },
      "source": [
        "https://machinelearningmastery.com/how-to-use-transfer-learning-when-developing-convolutional-neural-network-models/\n"
      ]
    },
    {
      "cell_type": "code",
      "metadata": {
        "id": "X6qbviLyBINa"
      },
      "source": [
        "vgg_conv_new = VGG16(weights=None,include_top=False,input_shape=(32,32,3))"
      ],
      "execution_count": 8,
      "outputs": []
    },
    {
      "cell_type": "code",
      "metadata": {
        "colab": {
          "base_uri": "https://localhost:8080/"
        },
        "id": "LfpVHf2ztWeG",
        "outputId": "308b72b2-9b21-4fe2-d436-11ba683755d1"
      },
      "source": [
        "vgg_conv_new.load_weights('VGG16CIFAR.h5')\n",
        "vgg_conv_new.summary()"
      ],
      "execution_count": 19,
      "outputs": [
        {
          "output_type": "stream",
          "text": [
            "Model: \"vgg16\"\n",
            "_________________________________________________________________\n",
            "Layer (type)                 Output Shape              Param #   \n",
            "=================================================================\n",
            "input_2 (InputLayer)         [(None, 32, 32, 3)]       0         \n",
            "_________________________________________________________________\n",
            "block1_conv1 (Conv2D)        (None, 32, 32, 64)        1792      \n",
            "_________________________________________________________________\n",
            "block1_conv2 (Conv2D)        (None, 32, 32, 64)        36928     \n",
            "_________________________________________________________________\n",
            "block1_pool (MaxPooling2D)   (None, 16, 16, 64)        0         \n",
            "_________________________________________________________________\n",
            "block2_conv1 (Conv2D)        (None, 16, 16, 128)       73856     \n",
            "_________________________________________________________________\n",
            "block2_conv2 (Conv2D)        (None, 16, 16, 128)       147584    \n",
            "_________________________________________________________________\n",
            "block2_pool (MaxPooling2D)   (None, 8, 8, 128)         0         \n",
            "_________________________________________________________________\n",
            "block3_conv1 (Conv2D)        (None, 8, 8, 256)         295168    \n",
            "_________________________________________________________________\n",
            "block3_conv2 (Conv2D)        (None, 8, 8, 256)         590080    \n",
            "_________________________________________________________________\n",
            "block3_conv3 (Conv2D)        (None, 8, 8, 256)         590080    \n",
            "_________________________________________________________________\n",
            "block3_pool (MaxPooling2D)   (None, 4, 4, 256)         0         \n",
            "_________________________________________________________________\n",
            "block4_conv1 (Conv2D)        (None, 4, 4, 512)         1180160   \n",
            "_________________________________________________________________\n",
            "block4_conv2 (Conv2D)        (None, 4, 4, 512)         2359808   \n",
            "_________________________________________________________________\n",
            "block4_conv3 (Conv2D)        (None, 4, 4, 512)         2359808   \n",
            "_________________________________________________________________\n",
            "block4_pool (MaxPooling2D)   (None, 2, 2, 512)         0         \n",
            "_________________________________________________________________\n",
            "block5_conv1 (Conv2D)        (None, 2, 2, 512)         2359808   \n",
            "_________________________________________________________________\n",
            "block5_conv2 (Conv2D)        (None, 2, 2, 512)         2359808   \n",
            "_________________________________________________________________\n",
            "block5_conv3 (Conv2D)        (None, 2, 2, 512)         2359808   \n",
            "_________________________________________________________________\n",
            "block5_pool (MaxPooling2D)   (None, 1, 1, 512)         0         \n",
            "=================================================================\n",
            "Total params: 14,714,688\n",
            "Trainable params: 14,714,688\n",
            "Non-trainable params: 0\n",
            "_________________________________________________________________\n"
          ],
          "name": "stdout"
        }
      ]
    },
    {
      "cell_type": "code",
      "metadata": {
        "colab": {
          "base_uri": "https://localhost:8080/"
        },
        "id": "d0tCgY1LBqBP",
        "outputId": "8a2be1b0-d813-41ef-aaa6-fec52dd457c2"
      },
      "source": [
        "test_model = Model(inputs=vgg_conv_new.input,outputs = vgg_conv_new.layers[-6].output)\n",
        "test_model.summary()\n",
        "flatten_layer = layers.Flatten()\n",
        "dense_layer_1 = layers.Dense(50, activation='relu')\n",
        "dense_layer_2 = layers.Dense(20, activation='relu')\n",
        "prediction_layer = layers.Dense(10, activation='softmax')\n"
      ],
      "execution_count": 58,
      "outputs": [
        {
          "output_type": "stream",
          "text": [
            "Model: \"model_5\"\n",
            "_________________________________________________________________\n",
            "Layer (type)                 Output Shape              Param #   \n",
            "=================================================================\n",
            "input_2 (InputLayer)         [(None, 32, 32, 3)]       0         \n",
            "_________________________________________________________________\n",
            "block1_conv1 (Conv2D)        (None, 32, 32, 64)        1792      \n",
            "_________________________________________________________________\n",
            "block1_conv2 (Conv2D)        (None, 32, 32, 64)        36928     \n",
            "_________________________________________________________________\n",
            "block1_pool (MaxPooling2D)   (None, 16, 16, 64)        0         \n",
            "_________________________________________________________________\n",
            "block2_conv1 (Conv2D)        (None, 16, 16, 128)       73856     \n",
            "_________________________________________________________________\n",
            "block2_conv2 (Conv2D)        (None, 16, 16, 128)       147584    \n",
            "_________________________________________________________________\n",
            "block2_pool (MaxPooling2D)   (None, 8, 8, 128)         0         \n",
            "_________________________________________________________________\n",
            "block3_conv1 (Conv2D)        (None, 8, 8, 256)         295168    \n",
            "_________________________________________________________________\n",
            "block3_conv2 (Conv2D)        (None, 8, 8, 256)         590080    \n",
            "_________________________________________________________________\n",
            "block3_conv3 (Conv2D)        (None, 8, 8, 256)         590080    \n",
            "_________________________________________________________________\n",
            "block3_pool (MaxPooling2D)   (None, 4, 4, 256)         0         \n",
            "_________________________________________________________________\n",
            "block4_conv1 (Conv2D)        (None, 4, 4, 512)         1180160   \n",
            "_________________________________________________________________\n",
            "block4_conv2 (Conv2D)        (None, 4, 4, 512)         2359808   \n",
            "_________________________________________________________________\n",
            "block4_conv3 (Conv2D)        (None, 4, 4, 512)         2359808   \n",
            "=================================================================\n",
            "Total params: 7,635,264\n",
            "Trainable params: 7,635,264\n",
            "Non-trainable params: 0\n",
            "_________________________________________________________________\n"
          ],
          "name": "stdout"
        }
      ]
    },
    {
      "cell_type": "code",
      "metadata": {
        "id": "NLiOzBuuB7DY"
      },
      "source": [
        "model = models.Sequential([\n",
        "    test_model,\n",
        "    flatten_layer,\n",
        "    dense_layer_1,\n",
        "    dense_layer_2,\n",
        "    prediction_layer\n",
        "])"
      ],
      "execution_count": 59,
      "outputs": []
    },
    {
      "cell_type": "code",
      "metadata": {
        "id": "PTBNmTIpCCMX"
      },
      "source": [
        "model.compile(\n",
        "    optimizer='adam',\n",
        "    loss='categorical_crossentropy',\n",
        "    metrics=['accuracy'],\n",
        ")"
      ],
      "execution_count": 60,
      "outputs": []
    },
    {
      "cell_type": "code",
      "metadata": {
        "colab": {
          "base_uri": "https://localhost:8080/"
        },
        "id": "fjCNNVXBCrPQ",
        "outputId": "c0933d02-2286-4598-9c65-59cbbad8d673"
      },
      "source": [
        "model.summary()"
      ],
      "execution_count": 61,
      "outputs": [
        {
          "output_type": "stream",
          "text": [
            "Model: \"sequential_6\"\n",
            "_________________________________________________________________\n",
            "Layer (type)                 Output Shape              Param #   \n",
            "=================================================================\n",
            "model_5 (Functional)         (None, 4, 4, 512)         7635264   \n",
            "_________________________________________________________________\n",
            "flatten_8 (Flatten)          (None, 8192)              0         \n",
            "_________________________________________________________________\n",
            "dense_24 (Dense)             (None, 50)                409650    \n",
            "_________________________________________________________________\n",
            "dense_25 (Dense)             (None, 20)                1020      \n",
            "_________________________________________________________________\n",
            "dense_26 (Dense)             (None, 10)                210       \n",
            "=================================================================\n",
            "Total params: 8,046,144\n",
            "Trainable params: 8,046,144\n",
            "Non-trainable params: 0\n",
            "_________________________________________________________________\n"
          ],
          "name": "stdout"
        }
      ]
    },
    {
      "cell_type": "code",
      "metadata": {
        "colab": {
          "base_uri": "https://localhost:8080/"
        },
        "id": "fxF3jnECCFet",
        "outputId": "4eeae5a7-23e2-41df-a252-706553e6e265"
      },
      "source": [
        "\n",
        "#need to do one hot encoded for y_train and y_test because activation='softmax' which is a multi-class classification\n",
        "model.fit(x_train,train_Y_one_hot,validation_data=(x_test,test_Y_one_hot), epochs=10 ,batch_size=32)"
      ],
      "execution_count": 63,
      "outputs": [
        {
          "output_type": "stream",
          "text": [
            "Epoch 1/10\n",
            "1563/1563 [==============================] - 68s 43ms/step - loss: 4789.8848 - accuracy: 0.2809 - val_loss: 1.5875 - val_accuracy: 0.3998\n",
            "Epoch 2/10\n",
            "1563/1563 [==============================] - 66s 42ms/step - loss: 1.4984 - accuracy: 0.4565 - val_loss: 1.3862 - val_accuracy: 0.5173\n",
            "Epoch 3/10\n",
            "1563/1563 [==============================] - 66s 42ms/step - loss: 1.2978 - accuracy: 0.5430 - val_loss: 1.2894 - val_accuracy: 0.5589\n",
            "Epoch 4/10\n",
            "1563/1563 [==============================] - 66s 42ms/step - loss: 1.1862 - accuracy: 0.5854 - val_loss: 1.2115 - val_accuracy: 0.5828\n",
            "Epoch 5/10\n",
            "1563/1563 [==============================] - 66s 42ms/step - loss: 1.1192 - accuracy: 0.6103 - val_loss: 1.1494 - val_accuracy: 0.5966\n",
            "Epoch 6/10\n",
            "1563/1563 [==============================] - 66s 42ms/step - loss: 1.0734 - accuracy: 0.6280 - val_loss: 1.1623 - val_accuracy: 0.6037\n",
            "Epoch 7/10\n",
            "1563/1563 [==============================] - 66s 42ms/step - loss: 1.0223 - accuracy: 0.6468 - val_loss: 1.1172 - val_accuracy: 0.6228\n",
            "Epoch 8/10\n",
            "1563/1563 [==============================] - 66s 42ms/step - loss: 0.9898 - accuracy: 0.6606 - val_loss: 1.0667 - val_accuracy: 0.6388\n",
            "Epoch 9/10\n",
            "1563/1563 [==============================] - 66s 42ms/step - loss: 0.9327 - accuracy: 0.6807 - val_loss: 1.0320 - val_accuracy: 0.6584\n",
            "Epoch 10/10\n",
            "1563/1563 [==============================] - 66s 42ms/step - loss: 0.9171 - accuracy: 0.6894 - val_loss: 1.0541 - val_accuracy: 0.6415\n"
          ],
          "name": "stdout"
        },
        {
          "output_type": "execute_result",
          "data": {
            "text/plain": [
              "<keras.callbacks.History at 0x7fe34fbf5e90>"
            ]
          },
          "metadata": {},
          "execution_count": 63
        }
      ]
    }
  ]
}