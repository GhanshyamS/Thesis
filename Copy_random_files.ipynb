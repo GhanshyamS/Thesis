{
  "nbformat": 4,
  "nbformat_minor": 5,
  "metadata": {
    "kernelspec": {
      "display_name": "Python 3",
      "language": "python",
      "name": "python3"
    },
    "language_info": {
      "codemirror_mode": {
        "name": "ipython",
        "version": 3
      },
      "file_extension": ".py",
      "mimetype": "text/x-python",
      "name": "python",
      "nbconvert_exporter": "python",
      "pygments_lexer": "ipython3",
      "version": "3.8.8"
    },
    "colab": {
      "name": "Copy random files.ipynb",
      "provenance": []
    }
  },
  "cells": [
    {
      "cell_type": "code",
      "metadata": {
        "id": "936e48d7",
        "outputId": "a7b4d73b-2630-4c05-d73e-425536f3a279"
      },
      "source": [
        "import os\n",
        "import random\n",
        "import shutil\n",
        "\n",
        "\n",
        "files_list = []\n",
        "\n",
        "for root, dirs, files in os.walk(\"dataset/Non-COVID-19\"):\n",
        "    for file in files:\n",
        "        #all \n",
        "        if file.endswith(\".jpg\") or file.endswith(\".png\") or file.endswith(\".jpeg\"):\n",
        "            files_list.append(os.path.join(root, file))\n",
        "\n",
        "\n",
        "#print images\n",
        "#lets me count and print the amount of jpeg,jpg,pmg \n",
        "file_count = len(files_list)\n",
        "print (file_count)\n",
        "\n",
        "# print files_list   \n",
        "filesToCopy = random.sample(files_list, 9230)  #prints two random files from list \n",
        "print('destpath')\n",
        "destPath = \"dataset/train/non\"\n",
        "\n",
        "# if destination dir does not exists, create it\n",
        "if os.path.isdir(destPath) == False:\n",
        "        os.makedirs(destPath)\n",
        "\n",
        "# iteraate over all random files and move them\n",
        "for file in filesToCopy:\n",
        "    shutil.move(file, destPath)\n"
      ],
      "id": "936e48d7",
      "execution_count": null,
      "outputs": [
        {
          "output_type": "stream",
          "text": [
            "11537\n",
            "destpath\n"
          ],
          "name": "stdout"
        }
      ]
    },
    {
      "cell_type": "code",
      "metadata": {
        "id": "53b0fa47"
      },
      "source": [
        "count number of files "
      ],
      "id": "53b0fa47",
      "execution_count": null,
      "outputs": []
    },
    {
      "cell_type": "code",
      "metadata": {
        "id": "9fc297f5",
        "outputId": "58e333f7-16c8-479f-d15d-377149b6ae62"
      },
      "source": [
        "counter = 0;\n",
        "for root, dirs, files in os.walk(\"dataset/train/non\"):\n",
        "    for file in files:\n",
        "       counter = counter +1\n",
        "print('train non-covid-data ', counter)\n"
      ],
      "id": "9fc297f5",
      "execution_count": null,
      "outputs": [
        {
          "output_type": "stream",
          "text": [
            "train non-covid-data  9230\n"
          ],
          "name": "stdout"
        }
      ]
    },
    {
      "cell_type": "code",
      "metadata": {
        "id": "687edfbb",
        "outputId": "b72c968b-d802-4174-f63a-557259cfe55a"
      },
      "source": [
        "counter = 0;\n",
        "for root, dirs, files in os.walk(\"dataset/test/non\"):\n",
        "    for file in files:\n",
        "       counter = counter +1\n",
        "print('test non-covid-data ', counter)"
      ],
      "id": "687edfbb",
      "execution_count": null,
      "outputs": [
        {
          "output_type": "stream",
          "text": [
            "test non-covid-data  2307\n"
          ],
          "name": "stdout"
        }
      ]
    },
    {
      "cell_type": "code",
      "metadata": {
        "id": "a996d811",
        "outputId": "aa48de29-48d8-4980-a3b6-1b084adb7d32"
      },
      "source": [
        "counter = 0;\n",
        "for root, dirs, files in os.walk(\"dataset/train/covid\"):\n",
        "    for file in files:\n",
        "       counter = counter +1\n",
        "print('train covid-data ', counter)"
      ],
      "id": "a996d811",
      "execution_count": null,
      "outputs": [
        {
          "output_type": "stream",
          "text": [
            "train covid-data  1809\n"
          ],
          "name": "stdout"
        }
      ]
    },
    {
      "cell_type": "code",
      "metadata": {
        "id": "7149b0a2",
        "outputId": "cba59752-c547-4f2b-e57c-426f86083b31"
      },
      "source": [
        "counter = 0;\n",
        "for root, dirs, files in os.walk(\"dataset/test/covid\"):\n",
        "    for file in files:\n",
        "       counter = counter +1\n",
        "print('test covid-data ', counter)"
      ],
      "id": "7149b0a2",
      "execution_count": null,
      "outputs": [
        {
          "output_type": "stream",
          "text": [
            "test covid-data  452\n"
          ],
          "name": "stdout"
        }
      ]
    },
    {
      "cell_type": "code",
      "metadata": {
        "id": "ad5619ca"
      },
      "source": [
        ""
      ],
      "id": "ad5619ca",
      "execution_count": null,
      "outputs": []
    },
    {
      "cell_type": "code",
      "metadata": {
        "id": "1b38311b"
      },
      "source": [
        ""
      ],
      "id": "1b38311b",
      "execution_count": null,
      "outputs": []
    }
  ]
}