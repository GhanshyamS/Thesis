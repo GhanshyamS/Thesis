{
 "cells": [
  {
   "cell_type": "code",
   "execution_count": 1,
   "id": "343b9050",
   "metadata": {},
   "outputs": [],
   "source": [
    "import numpy as np \n",
    "import pandas as pd #\n",
    "from sklearn.utils.multiclass import unique_labels\n",
    "import os"
   ]
  },
  {
   "cell_type": "code",
   "execution_count": 25,
   "id": "a8e54c7e",
   "metadata": {},
   "outputs": [],
   "source": [
    "import matplotlib.pyplot as plt\n",
    "import matplotlib.image as mpimg\n",
    "import seaborn as sns\n",
    "\n",
    "import itertools\n",
    "from sklearn.model_selection import train_test_split\n",
    "from sklearn.metrics import confusion_matrix\n",
    "from sklearn.metrics import classification_report"
   ]
  },
  {
   "cell_type": "code",
   "execution_count": 3,
   "id": "2fe7d113",
   "metadata": {},
   "outputs": [
    {
     "name": "stderr",
     "output_type": "stream",
     "text": [
      "Using TensorFlow backend.\n"
     ]
    }
   ],
   "source": [
    "#keras import \n",
    "from keras import Sequential\n",
    "from keras.applications import DenseNet121\n",
    "from keras.optimizers import SGD,Adam\n",
    "from keras.callbacks import ReduceLROnPlateau\n",
    "from keras.layers import Flatten,Dense,BatchNormalization,Activation,Dropout\n",
    "from keras.utils import to_categorical\n",
    "from tensorflow.keras.preprocessing.image import ImageDataGenerator\n"
   ]
  },
  {
   "cell_type": "code",
   "execution_count": 4,
   "id": "9619e29d",
   "metadata": {},
   "outputs": [],
   "source": [
    "#Import dataset\n",
    "from keras.datasets import cifar10\n"
   ]
  },
  {
   "cell_type": "code",
   "execution_count": 5,
   "id": "47bf444c",
   "metadata": {},
   "outputs": [],
   "source": [
    "#Divide the data in Train, Validation and Test Datasets\n",
    "(x_train,y_train),(x_test,y_test)=cifar10.load_data()"
   ]
  },
  {
   "cell_type": "code",
   "execution_count": 6,
   "id": "9514dd7f",
   "metadata": {},
   "outputs": [],
   "source": [
    "x_train,x_val,y_train,y_val=train_test_split(x_train,y_train,test_size=.3)\n"
   ]
  },
  {
   "cell_type": "code",
   "execution_count": 7,
   "id": "a4a02a56",
   "metadata": {},
   "outputs": [
    {
     "name": "stdout",
     "output_type": "stream",
     "text": [
      "((35000, 32, 32, 3), (35000, 1))\n",
      "((15000, 32, 32, 3), (15000, 1))\n",
      "((10000, 32, 32, 3), (10000, 1))\n"
     ]
    }
   ],
   "source": [
    "#Print the dimensions of the datasets to make sure everything's kosher\n",
    "\n",
    "print((x_train.shape,y_train.shape))\n",
    "print((x_val.shape,y_val.shape))\n",
    "print((x_test.shape,y_test.shape))"
   ]
  },
  {
   "cell_type": "code",
   "execution_count": 8,
   "id": "b65a8fe5",
   "metadata": {},
   "outputs": [],
   "source": [
    "y_train=to_categorical(y_train)\n",
    "y_val=to_categorical(y_val)\n",
    "y_test=to_categorical(y_test)"
   ]
  },
  {
   "cell_type": "code",
   "execution_count": 31,
   "id": "9f9d81d0",
   "metadata": {},
   "outputs": [
    {
     "data": {
      "text/plain": [
       "array([[0., 0., 0., ..., 0., 0., 0.],\n",
       "       [0., 0., 0., ..., 0., 1., 0.],\n",
       "       [0., 0., 0., ..., 0., 1., 0.],\n",
       "       ...,\n",
       "       [0., 0., 0., ..., 0., 0., 0.],\n",
       "       [0., 1., 0., ..., 0., 0., 0.],\n",
       "       [0., 0., 0., ..., 1., 0., 0.]], dtype=float32)"
      ]
     },
     "execution_count": 31,
     "metadata": {},
     "output_type": "execute_result"
    }
   ],
   "source": [
    "y_test"
   ]
  },
  {
   "cell_type": "code",
   "execution_count": 9,
   "id": "42e2f3ed",
   "metadata": {},
   "outputs": [
    {
     "name": "stdout",
     "output_type": "stream",
     "text": [
      "((35000, 32, 32, 3), (35000, 10))\n",
      "((15000, 32, 32, 3), (15000, 10))\n",
      "((10000, 32, 32, 3), (10000, 10))\n"
     ]
    }
   ],
   "source": [
    "print((x_train.shape,y_train.shape))\n",
    "print((x_val.shape,y_val.shape))\n",
    "print((x_test.shape,y_test.shape))"
   ]
  },
  {
   "cell_type": "code",
   "execution_count": 10,
   "id": "b1b6a986",
   "metadata": {},
   "outputs": [],
   "source": [
    "#Data Augmentation \n",
    "\n",
    "train_generator = ImageDataGenerator(\n",
    "                                    rotation_range=2, \n",
    "                                    horizontal_flip=True,\n",
    "                                    zoom_range=.1 )\n",
    "\n",
    "val_generator = ImageDataGenerator(\n",
    "                                    rotation_range=2, \n",
    "                                    horizontal_flip=True,\n",
    "                                    zoom_range=.1)\n",
    "\n",
    "test_generator = ImageDataGenerator(\n",
    "                                    rotation_range=2, \n",
    "                                    horizontal_flip= True,\n",
    "                                    zoom_range=.1) "
   ]
  },
  {
   "cell_type": "code",
   "execution_count": 11,
   "id": "f04d9c22",
   "metadata": {},
   "outputs": [],
   "source": [
    "#Fit the augmentation method to the data\n",
    "\n",
    "train_generator.fit(x_train)\n",
    "val_generator.fit(x_val)\n",
    "test_generator.fit(x_test)"
   ]
  },
  {
   "cell_type": "code",
   "execution_count": 12,
   "id": "8a7f835b",
   "metadata": {},
   "outputs": [],
   "source": [
    "#learning rate Annealer\n",
    "lrr= ReduceLROnPlateau(\n",
    "                       monitor='val_acc', #Metric to be measured\n",
    "                       factor=.01, #Factor by which learning rate will be reduced\n",
    "                       patience=3,  #No. of epochs after which if there is no improvement in the val_acc, the learning rate is reduced\n",
    "                       min_lr=1e-5) #The minimum learning rate "
   ]
  },
  {
   "cell_type": "code",
   "execution_count": 13,
   "id": "e9cfc48b",
   "metadata": {},
   "outputs": [
    {
     "name": "stdout",
     "output_type": "stream",
     "text": [
      "WARNING:tensorflow:From /home/gaurav/.local/lib/python3.6/site-packages/tensorflow_core/python/ops/resource_variable_ops.py:1630: calling BaseResourceVariable.__init__ (from tensorflow.python.ops.resource_variable_ops) with constraint is deprecated and will be removed in a future version.\n",
      "Instructions for updating:\n",
      "If using Keras pass *_constraint arguments to layers.\n",
      "WARNING:tensorflow:From /home/gaurav/anaconda3/envs/myenv/lib/python3.6/site-packages/keras/backend/tensorflow_backend.py:4070: The name tf.nn.max_pool is deprecated. Please use tf.nn.max_pool2d instead.\n",
      "\n",
      "WARNING:tensorflow:From /home/gaurav/anaconda3/envs/myenv/lib/python3.6/site-packages/keras/backend/tensorflow_backend.py:4074: The name tf.nn.avg_pool is deprecated. Please use tf.nn.avg_pool2d instead.\n",
      "\n"
     ]
    }
   ],
   "source": [
    "basemodel=DenseNet121( include_top=False,\n",
    "    weights=\"imagenet\",\n",
    "    input_shape=(32,32,3),\n",
    "    classes=y_train.shape[1])"
   ]
  },
  {
   "cell_type": "code",
   "execution_count": 14,
   "id": "4abf0d32",
   "metadata": {},
   "outputs": [],
   "source": [
    "model_1= Sequential()\n",
    "model_1.add(basemodel) #Adds the base model (in this case densenet121 to model_1)\n",
    "model_1.add(Flatten()) "
   ]
  },
  {
   "cell_type": "code",
   "execution_count": 15,
   "id": "5b8a02e5",
   "metadata": {},
   "outputs": [
    {
     "name": "stdout",
     "output_type": "stream",
     "text": [
      "Model: \"sequential_1\"\n",
      "_________________________________________________________________\n",
      "Layer (type)                 Output Shape              Param #   \n",
      "=================================================================\n",
      "densenet121 (Model)          (None, 1, 1, 1024)        7037504   \n",
      "_________________________________________________________________\n",
      "flatten_1 (Flatten)          (None, 1024)              0         \n",
      "=================================================================\n",
      "Total params: 7,037,504\n",
      "Trainable params: 6,953,856\n",
      "Non-trainable params: 83,648\n",
      "_________________________________________________________________\n"
     ]
    }
   ],
   "source": [
    "model_1.summary()\n"
   ]
  },
  {
   "cell_type": "code",
   "execution_count": 16,
   "id": "3b9a95bb",
   "metadata": {},
   "outputs": [],
   "source": [
    "#Add the Dense layers along with activation and batch normalization\n",
    "model_1.add(Dense(1024,activation=('relu'),input_dim=512))\n",
    "model_1.add(Dense(512,activation=('relu'))) \n",
    "model_1.add(Dense(256,activation=('relu'))) \n",
    "#model_1.add(Dropout(.3))#Adding a dropout layer that will randomly drop 30% of the weights\n",
    "model_1.add(Dense(128,activation=('relu')))\n",
    "#model_1.add(Dropout(.2))\n",
    "model_1.add(Dense(10,activation=('softmax'))) #This is the classification layer"
   ]
  },
  {
   "cell_type": "code",
   "execution_count": 17,
   "id": "3333f957",
   "metadata": {},
   "outputs": [
    {
     "name": "stdout",
     "output_type": "stream",
     "text": [
      "Model: \"sequential_1\"\n",
      "_________________________________________________________________\n",
      "Layer (type)                 Output Shape              Param #   \n",
      "=================================================================\n",
      "densenet121 (Model)          (None, 1, 1, 1024)        7037504   \n",
      "_________________________________________________________________\n",
      "flatten_1 (Flatten)          (None, 1024)              0         \n",
      "_________________________________________________________________\n",
      "dense_1 (Dense)              (None, 1024)              1049600   \n",
      "_________________________________________________________________\n",
      "dense_2 (Dense)              (None, 512)               524800    \n",
      "_________________________________________________________________\n",
      "dense_3 (Dense)              (None, 256)               131328    \n",
      "_________________________________________________________________\n",
      "dense_4 (Dense)              (None, 128)               32896     \n",
      "_________________________________________________________________\n",
      "dense_5 (Dense)              (None, 10)                1290      \n",
      "=================================================================\n",
      "Total params: 8,777,418\n",
      "Trainable params: 8,693,770\n",
      "Non-trainable params: 83,648\n",
      "_________________________________________________________________\n"
     ]
    }
   ],
   "source": [
    "model_1.summary()\n"
   ]
  },
  {
   "cell_type": "code",
   "execution_count": 18,
   "id": "901e88af",
   "metadata": {},
   "outputs": [],
   "source": [
    "batch_size= 100\n",
    "epochs=10\n",
    "learn_rate=.001\n",
    "\n",
    "sgd=SGD(lr=learn_rate,momentum=.9,nesterov=False)\n",
    "adam=Adam(lr=learn_rate, beta_1=0.9, beta_2=0.999, epsilon=None, decay=0.0, amsgrad=False)"
   ]
  },
  {
   "cell_type": "code",
   "execution_count": 19,
   "id": "5d24c40b",
   "metadata": {},
   "outputs": [],
   "source": [
    "model_1.compile(optimizer=sgd,loss='categorical_crossentropy',metrics=['accuracy'])"
   ]
  },
  {
   "cell_type": "code",
   "execution_count": 20,
   "id": "70519a1b",
   "metadata": {},
   "outputs": [
    {
     "name": "stdout",
     "output_type": "stream",
     "text": [
      "WARNING:tensorflow:From /home/gaurav/anaconda3/envs/myenv/lib/python3.6/site-packages/keras/backend/tensorflow_backend.py:422: The name tf.global_variables is deprecated. Please use tf.compat.v1.global_variables instead.\n",
      "\n",
      "Epoch 1/10\n",
      "350/350 [==============================] - 143s 409ms/step - loss: 1.4470 - accuracy: 0.4929 - val_loss: 1.0801 - val_accuracy: 0.6464\n"
     ]
    },
    {
     "name": "stderr",
     "output_type": "stream",
     "text": [
      "/home/gaurav/anaconda3/envs/myenv/lib/python3.6/site-packages/keras/callbacks/callbacks.py:1042: RuntimeWarning: Reduce LR on plateau conditioned on metric `val_acc` which is not available. Available metrics are: val_loss,val_accuracy,loss,accuracy,lr\n",
      "  (self.monitor, ','.join(list(logs.keys()))), RuntimeWarning\n"
     ]
    },
    {
     "name": "stdout",
     "output_type": "stream",
     "text": [
      "Epoch 2/10\n",
      "350/350 [==============================] - 117s 334ms/step - loss: 0.8084 - accuracy: 0.7201 - val_loss: 0.7426 - val_accuracy: 0.7132\n",
      "Epoch 3/10\n",
      "350/350 [==============================] - 122s 349ms/step - loss: 0.6261 - accuracy: 0.7849 - val_loss: 0.6929 - val_accuracy: 0.7717\n",
      "Epoch 4/10\n",
      "350/350 [==============================] - 120s 344ms/step - loss: 0.5250 - accuracy: 0.8169 - val_loss: 0.6957 - val_accuracy: 0.7772\n",
      "Epoch 5/10\n",
      "350/350 [==============================] - 119s 341ms/step - loss: 0.4556 - accuracy: 0.8442 - val_loss: 0.6481 - val_accuracy: 0.8037\n",
      "Epoch 6/10\n",
      "350/350 [==============================] - 133s 379ms/step - loss: 0.3904 - accuracy: 0.8651 - val_loss: 0.5728 - val_accuracy: 0.8025\n",
      "Epoch 7/10\n",
      "350/350 [==============================] - 139s 398ms/step - loss: 0.3444 - accuracy: 0.8784 - val_loss: 0.6877 - val_accuracy: 0.8094\n",
      "Epoch 8/10\n",
      "350/350 [==============================] - 138s 394ms/step - loss: 0.3005 - accuracy: 0.8950 - val_loss: 0.5280 - val_accuracy: 0.8095\n",
      "Epoch 9/10\n",
      "350/350 [==============================] - 131s 374ms/step - loss: 0.2651 - accuracy: 0.9083 - val_loss: 0.6695 - val_accuracy: 0.8168\n",
      "Epoch 10/10\n",
      "350/350 [==============================] - 131s 374ms/step - loss: 0.2342 - accuracy: 0.9191 - val_loss: 0.6691 - val_accuracy: 0.8265\n"
     ]
    },
    {
     "data": {
      "text/plain": [
       "<keras.callbacks.callbacks.History at 0x7fb06021d080>"
      ]
     },
     "execution_count": 20,
     "metadata": {},
     "output_type": "execute_result"
    }
   ],
   "source": [
    "model_1.fit_generator(train_generator.flow(x_train,y_train,batch_size=batch_size),\n",
    "                      epochs=epochs,\n",
    "                      steps_per_epoch=x_train.shape[0]//batch_size,\n",
    "                      validation_data=val_generator.flow(x_val,y_val,batch_size=batch_size),validation_steps=250,\n",
    "                      callbacks=[lrr],verbose=1)"
   ]
  },
  {
   "cell_type": "code",
   "execution_count": 21,
   "id": "435a2aad",
   "metadata": {},
   "outputs": [
    {
     "data": {
      "text/plain": [
       "<matplotlib.legend.Legend at 0x7fb0417e0978>"
      ]
     },
     "execution_count": 21,
     "metadata": {},
     "output_type": "execute_result"
    },
    {
     "data": {
      "image/png": "[encoded data removed]",
      "text/plain": [
       "<Figure size 432x288 with 2 Axes>"
      ]
     },
     "metadata": {
      "needs_background": "light"
     },
     "output_type": "display_data"
    }
   ],
   "source": [
    "f,ax=plt.subplots(2,1) #Creates 2 subplots under 1 column\n",
    "\n",
    "#Assign the first subplot to graph training loss and validation loss\n",
    "ax[0].plot(model_1.history.history['loss'],color='b',label='Training Loss')\n",
    "ax[0].plot(model_1.history.history['val_loss'],color='r',label='Validation Loss')\n",
    "ax[0].legend()\n",
    "\n",
    "#Next lets plot the training accuracy and validation accuracy\n",
    "ax[1].plot(model_1.history.history['accuracy'],color='b',label='Training  Accuracy')\n",
    "ax[1].plot(model_1.history.history['val_accuracy'],color='r',label='Validation Accuracy')\n",
    "ax[1].legend()\n"
   ]
  },
  {
   "cell_type": "code",
   "execution_count": 24,
   "id": "f028cd29",
   "metadata": {},
   "outputs": [
    {
     "name": "stdout",
     "output_type": "stream",
     "text": [
      "Saved model to disk\n"
     ]
    }
   ],
   "source": [
    "# serialize model to JSON\n",
    "model_json = model_1.to_json()\n",
    "with open(\"model.json\", \"w\") as json_file:\n",
    "    json_file.write(model_json)\n",
    "# serialize weights to HDF5\n",
    "model_1.save_weights(\"model.h5\")\n",
    "print(\"Saved model to disk\")"
   ]
  },
  {
   "cell_type": "code",
   "execution_count": 36,
   "id": "0d65e059",
   "metadata": {},
   "outputs": [],
   "source": [
    "y_pred=model_1.predict_classes(x_test)\n",
    "y_true=np.argmax(y_test,axis=1)"
   ]
  },
  {
   "cell_type": "code",
   "execution_count": 46,
   "id": "fe0caab1",
   "metadata": {},
   "outputs": [],
   "source": [
    "report=classification_report(y_true,y_pred)\n"
   ]
  },
  {
   "cell_type": "code",
   "execution_count": 49,
   "id": "f8277279",
   "metadata": {},
   "outputs": [
    {
     "name": "stdout",
     "output_type": "stream",
     "text": [
      "              precision    recall  f1-score   support\n",
      "\n",
      "           0       0.81      0.89      0.84      1000\n",
      "           1       0.87      0.91      0.89      1000\n",
      "           2       0.77      0.77      0.77      1000\n",
      "           3       0.70      0.63      0.67      1000\n",
      "           4       0.78      0.78      0.78      1000\n",
      "           5       0.81      0.68      0.74      1000\n",
      "           6       0.77      0.92      0.84      1000\n",
      "           7       0.87      0.84      0.85      1000\n",
      "           8       0.91      0.90      0.90      1000\n",
      "           9       0.89      0.87      0.88      1000\n",
      "\n",
      "    accuracy                           0.82     10000\n",
      "   macro avg       0.82      0.82      0.82     10000\n",
      "weighted avg       0.82      0.82      0.82     10000\n",
      "\n"
     ]
    }
   ],
   "source": [
    "print(report)"
   ]
  },
  {
   "cell_type": "code",
   "execution_count": 51,
   "id": "7bf7c922",
   "metadata": {},
   "outputs": [
    {
     "data": {
      "text/plain": [
       "array([[886,  16,  24,   3,  10,   2,   4,   6,  32,  17],\n",
       "       [ 18, 910,   3,   3,   0,   2,   5,   3,   9,  47],\n",
       "       [ 50,   3, 774,  27,  43,  18,  56,  19,   6,   4],\n",
       "       [ 26,  10,  56, 633,  54,  87,  89,  24,  10,  11],\n",
       "       [ 18,   1,  60,  28, 784,  11,  65,  25,   5,   3],\n",
       "       [ 14,   4,  26, 155,  45, 678,  38,  34,   2,   4],\n",
       "       [  8,   2,  26,  18,  13,   3, 924,   3,   2,   1],\n",
       "       [ 14,   4,  24,  24,  43,  33,   8, 837,   5,   8],\n",
       "       [ 44,  29,   6,   2,   4,   1,   1,   3, 895,  15],\n",
       "       [ 20,  62,   1,   6,   3,   4,   4,  10,  17, 873]])"
      ]
     },
     "execution_count": 51,
     "metadata": {},
     "output_type": "execute_result"
    }
   ],
   "source": [
    "confusion_matrix(y_true,y_pred)"
   ]
  },
  {
   "cell_type": "code",
   "execution_count": null,
   "id": "4c4bce75",
   "metadata": {},
   "outputs": [],
   "source": []
  }
 ],
 "metadata": {
  "kernelspec": {
   "display_name": "Python 3",
   "language": "python",
   "name": "python3"
  },
  "language_info": {
   "codemirror_mode": {
    "name": "ipython",
    "version": 3
   },
   "file_extension": ".py",
   "mimetype": "text/x-python",
   "name": "python",
   "nbconvert_exporter": "python",
   "pygments_lexer": "ipython3",
   "version": "3.6.10"
  }
 },
 "nbformat": 4,
 "nbformat_minor": 5
}
